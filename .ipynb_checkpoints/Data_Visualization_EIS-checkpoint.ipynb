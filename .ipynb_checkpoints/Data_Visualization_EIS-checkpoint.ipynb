{
 "cells": [
  {
   "cell_type": "markdown",
   "id": "be202b6b",
   "metadata": {},
   "source": [
    "## Data_Visualization_EIS.ipynb\n",
    "#### Analyzes EIS Data from Big Kahuna for Convenient Feedback.\n",
    "##### Miles Smith\n",
    "##### 19 September 2023"
   ]
  },
  {
   "cell_type": "code",
   "execution_count": 1,
   "id": "136321f6-d58b-4112-84e4-3e48ec0d526f",
   "metadata": {
    "tags": []
   },
   "outputs": [],
   "source": [
    "import glob\n",
    "import os\n",
    "import math\n",
    "import statistics\n",
    "import matplotlib.pyplot as plt\n",
    "import numpy as np\n",
    "from scipy.optimize import curve_fit\n",
    "from impedance import preprocessing\n",
    "from impedance.models.circuits import CustomCircuit\n",
    "# Note that altair was downgraded to v3.0 for impedance.\n",
    "from impedance.visualization import plot_nyquist, plot_residuals\n",
    "from impedance.validation import linKK"
   ]
  },
  {
   "cell_type": "markdown",
   "id": "f47be87f-d8cc-44de-b9d4-330f78ddd0ab",
   "metadata": {},
   "source": [
    "###  Notes\n",
    "10/2/2023 -- Data from vials 1, 4, 8, 13 came out potentially good at all T... only 12 of 45 samples came out adequate. \n",
    "\n",
    "Vial 1: 0.2 mol, 1.00 mol, 2.00 mol, 3.75 mol "
   ]
  },
  {
   "cell_type": "markdown",
   "id": "94a37f99-2f5b-4454-b606-5965496100dc",
   "metadata": {},
   "source": [
    "### Configure User Inputs"
   ]
  },
  {
   "cell_type": "code",
   "execution_count": 33,
   "id": "87c41746-ca92-47d9-91bb-f061065d24aa",
   "metadata": {
    "tags": []
   },
   "outputs": [],
   "source": [
    "# Set the directory path to where the data files (*.txt) format are located on the computer\n",
    "directory_path = '/Users/milessmith/Documents/GitHub/mit-tri-robot/eis_sample_data' # Miles MacBook Pro (for testing)\n",
    "# directory_path = 'C:\\\\Users\\miles\\Documents\\GitHub\\mit-tri-robot\\eis_sample_data'\n",
    "# directory_path = 'C:\\EIS' # Unchained Labs computer USE THIS DIRECTORY PATH IN 6-020\n",
    "\n",
    "# Do you want to filter out bad data?\n",
    "data_filter_selection = 0 # 1 = yes / 0 = no\n",
    "# If yes, I use the expected value of the residuals compared to a model to determine if the data is adequate.\n",
    "# What should the threshold be to flag data?\n",
    "avg_residuals_cutoff = 0.05\n",
    "# avg_residuals_cutoff = math.inf\n",
    "\n",
    "# Cell Configuraton\n",
    "diameter = 0.010 # [m] Electrode diamter\n",
    "length = 0.0001 # [m] # Material thickness\n",
    "\n",
    "# Select equivalent circuit model\n",
    "user_circuit = 'R0-p(R2-Wo1,C2)'\n",
    "# Initial guess of parameter values for ECM. From my observations this is a bit finnicky. \n",
    "user_guess = [10**4, 10**5, 10**5, 10**-1, 10**-10]\n",
    "\n",
    "# Do you want multiple plots or each data array to be overlapped on each other?\n",
    "overlay_data = 1  # 1 = yes | 0 = no\n",
    "\n",
    "# Do you want to save the figures generated?\n",
    "save_main_fig = 0 # 1 = yes | 0 = no\n",
    "\n",
    "# What folder should the figure be saved to?\n",
    "# save_path = r'C:\\\\Users\\miles\\Documents\\GitHub\\mit-tri-robot\\figures' # Miles' Windows computer\n",
    "# save_path = r'C:\\\\Users\\Unchained Labs\\Documents\\GitHub\\mit-tri-robot\\figures' # 6-020 computer\n",
    "\n",
    "# What should the X and Y Limits be?\n",
    "figure_lim = 1000\n"
   ]
  },
  {
   "cell_type": "markdown",
   "id": "40e90b15-5f0c-47c0-9d6c-8ce532b5d0ec",
   "metadata": {},
   "source": [
    "### Select Data files"
   ]
  },
  {
   "cell_type": "code",
   "execution_count": 34,
   "id": "3ce7dc51-a0c2-4bd0-be38-ade15081c54e",
   "metadata": {
    "tags": []
   },
   "outputs": [],
   "source": [
    "'''\n",
    "Example File structure: 103965_5_20230918_073125_25.txt\n",
    "Plate Number: 103965\n",
    "Vial Number (?): 5\n",
    "Date: 20230918\n",
    "Vial Code (?): 073125\n",
    "Temperature (degC): 25\n",
    "'''\n",
    "\n",
    "### NOTICE: The underscores are an important aspect of the strings for temp and vial number. ###\n",
    "# plate_number = '103965_'\n",
    "plate_number = \"skip\"\n",
    "\n",
    "vial_number = '_5_' # YOU CAN FILTER BY VIAL NUMBER\n",
    "# vial_number = \"skip\"\n",
    "\n",
    "# NOTE: Some of the dates are incorrect, so it might be good to configure the code to look at two dates. \n",
    "date1 = '_20230918_' # PICK THE DATE OF THE SAMPLE YOU ARE INTERESTED\n",
    "# date1 = \"skip\"\n",
    "date2 = '_20230918_'\n",
    "# date2 = \"skip\"\n",
    "\n",
    "temperature = '_75' # YOU CAN FILTER BY TEMPERATURE\n",
    "# temperature = \"skip\""
   ]
  },
  {
   "cell_type": "markdown",
   "id": "1979d584-b1c9-420c-93dc-fc834ee49e8d",
   "metadata": {},
   "source": [
    "### Frequency Range\n",
    "\n",
    "The text (.txt) does not include the frequency, so I am manually importing this from a .mpt file. \n",
    "If we adjust the frequency range, then we will need to adjust this, but from my observations we always sample\n",
    "using the same frequencies. This could be subject to change if we ever changed the scan rate, so it is\n",
    "important to be mindful!\n",
    "\n",
    "FYI: This specific frequency array probably only works as long as we are using a scan frequency of 0.2. "
   ]
  },
  {
   "cell_type": "code",
   "execution_count": 35,
   "id": "3a04a0c6",
   "metadata": {
    "tags": []
   },
   "outputs": [],
   "source": [
    "# Note: Freq[Hz]\n",
    "frequency = [ 6999984, 5969734, 5091109, 4341796, 3702781, 3157797, 2693047, 2296687, 1958656,1670375,\n",
    "             1424531,1214875,1036062,883578.100000000,753531.200000000,642624.900000000,548046.800000000, \n",
    "             467390.600000000, 398593.700000000, 339937.500000000, 289906.200000000, 247234.400000000, \n",
    "             210843.700000000, 179812.500000000, 153343.800000000, 130781.200000000, 111531.300000000,  \n",
    "             95109.3700000000, 81109.3700000000, 69171.8800000000, 59000, 50312.5000000000, 42906.2500000000, \n",
    "             36593.7500000000, 31203.1300000000, 26609.3800000000, 22703.1300000000, 19359.3700000000,  \n",
    "             16500, 14112.0200000000, 12011.1300000000, 10236.3800000000, 8750.68400000000, 7449.46300000000, \n",
    "             6363.20600000000, 5414.76100000000, 4620.56700000000, 3941.21500000000, 3361.76900000000, \n",
    "             2867.24400000000, 2442.65800000000, 2083.00300000000, 1777.84300000000, 1513.54800000000, \n",
    "             1292.06500000000, 1101.76200000000, 939.101000000000, 801.280100000000, 684.343300000000, \n",
    "             582.947600000000, 497.067700000000, 423.508900000000, 361.503600000000, 308.126200000000, \n",
    "             262.729800000000, 224.211100000000, 191.285400000000, 163.172200000000, 139.153700000000, \n",
    "             118.670600000000, 101.198200000000, 86.2419600000000, 73.6102400000000, 62.6929100000000, \n",
    "             53.5769700000000, 45.6574600000000, 38.9651200000000, 33.1841400000000, 28.3061700000000, \n",
    "             24.1723700000000, 20.6134500000000, 17.5561800000000, 14.9855800000000, 12.7655300000000, \n",
    "             10.8809000000000, 9.27850500000000, 7.92339400000000, 6.75822000000000, 5.76142900000000, \n",
    "             4.91970800000000, 4.19125700000000, 3.56409700000000, 3.05175800000000, 2.60416400000000, \n",
    "             2.21442400000000, 1.89256700000000, 1.60750700000000, 1.37641300000000, 1.17375000000000, \n",
    "             1.00160400000000 ]\n",
    "\n",
    "for i in range(len(frequency)):\n",
    "    frequency[i] = np.int32(frequency[i])\n",
    "\n",
    "f = np.array(frequency)"
   ]
  },
  {
   "cell_type": "markdown",
   "id": "038a4d95-735c-4fe0-8ba9-44a0114f2c41",
   "metadata": {},
   "source": [
    "### Additional Functions"
   ]
  },
  {
   "cell_type": "code",
   "execution_count": 100,
   "id": "c3e691f4-f550-4c02-b486-9e1e2c8b9894",
   "metadata": {
    "tags": []
   },
   "outputs": [],
   "source": [
    "def ellipse(x, h, k, a, b):\n",
    "    y = np.zeros(len(x))\n",
    "    for i in range(len(x)):\n",
    "        temp = np.sqrt(a**2 * (1 - ((x[i] - h) ** 2) / (a ** 2))) + k\n",
    "        if temp >= 0:\n",
    "            y[i] = temp\n",
    "        else:\n",
    "            y[i] = math.inf\n",
    "    return y"
   ]
  },
  {
   "cell_type": "markdown",
   "id": "4138c9a6-b838-402b-aec3-40777b1d7af4",
   "metadata": {
    "tags": []
   },
   "source": [
    "### Downsize dataset to only the files of interest"
   ]
  },
  {
   "cell_type": "code",
   "execution_count": 101,
   "id": "b9066393",
   "metadata": {
    "tags": []
   },
   "outputs": [
    {
     "name": "stdout",
     "output_type": "stream",
     "text": [
      "Number of files selected: 1\n"
     ]
    }
   ],
   "source": [
    "### Read in all file names in EIS folder ###\n",
    "\n",
    "# Specify the directory path and file extension pattern\n",
    "extension_pattern = '*.txt'  # List .txt files, for example\n",
    "\n",
    "# Get a list of file names matching the pattern in the directory\n",
    "path_names = glob.glob(os.path.join(directory_path, extension_pattern))\n",
    "\n",
    "# New list to append the files of interest\n",
    "useful_path = []\n",
    "for path in path_names:\n",
    "    if (date1 in path) or (date1 == \"skip\") or (date2 in path) or (date2 == \"skip\"):\n",
    "        if (vial_number in path) or (vial_number == \"skip\"):\n",
    "            if (temperature in path) or (temperature == \"skip\"):\n",
    "                if (plate_number in path) or (plate_number == \"skip\"):\n",
    "                    useful_path.append(path)\n",
    "\n",
    "print(\"Number of files selected: \" + str(len(useful_path)))"
   ]
  },
  {
   "cell_type": "markdown",
   "id": "1ec7b556-e903-46ac-baa0-b711b4b90e92",
   "metadata": {},
   "source": [
    "### Data Import, Basic Analysis, and Figures\n",
    "Here I imported the data from the system and did basic calculations for further analysis.\n"
   ]
  },
  {
   "cell_type": "code",
   "execution_count": 117,
   "id": "67d3e634-2734-4d4b-8366-bea8bf001d6f",
   "metadata": {
    "tags": []
   },
   "outputs": [
    {
     "name": "stderr",
     "output_type": "stream",
     "text": [
      "/var/folders/hx/mzdy_0px4vjdf00n9svk8mfw0000gn/T/ipykernel_16659/373981159.py:83: DeprecationWarning: Conversion of an array with ndim > 0 to a scalar is deprecated, and will error in future. Ensure you extract a single element from your array before performing this operation. (Deprecated NumPy 1.25.)\n",
      "  Z_circle = np.delete(Z, np.s_[int(min_Z_imag_index[0]) + 1:])\n",
      "/var/folders/hx/mzdy_0px4vjdf00n9svk8mfw0000gn/T/ipykernel_16659/373981159.py:84: DeprecationWarning: Conversion of an array with ndim > 0 to a scalar is deprecated, and will error in future. Ensure you extract a single element from your array before performing this operation. (Deprecated NumPy 1.25.)\n",
      "  F_circle = np.delete(f, np.s_[int(min_Z_imag_index[0]) + 1:])\n",
      "/var/folders/hx/mzdy_0px4vjdf00n9svk8mfw0000gn/T/ipykernel_16659/3650033572.py:4: RuntimeWarning: invalid value encountered in sqrt\n",
      "  temp = np.sqrt(a**2 * (1 - ((x[i] - h) ** 2) / (a ** 2))) + k\n",
      "/var/folders/hx/mzdy_0px4vjdf00n9svk8mfw0000gn/T/ipykernel_16659/373981159.py:161: UserWarning: Matplotlib is currently using module://matplotlib_inline.backend_inline, which is a non-GUI backend, so cannot show the figure.\n",
      "  modelFig.show()\n",
      "/var/folders/hx/mzdy_0px4vjdf00n9svk8mfw0000gn/T/ipykernel_16659/373981159.py:167: UserWarning: Matplotlib is currently using module://matplotlib_inline.backend_inline, which is a non-GUI backend, so cannot show the figure.\n",
      "  residualFig.show()\n"
     ]
    },
    {
     "name": "stdout",
     "output_type": "stream",
     "text": [
      "10 0.9993844012076413 5294.36473640236\n",
      "Conductivity: 0.0032238338485527747 S/m\n",
      "[!!] Residuals are good in:  /Users/milessmith/Documents/GitHub/mit-tri-robot/eis_sample_data/103965_5_20230918_073125_75.txt\n",
      "Dimensionality Error in file:/Users/milessmith/Documents/GitHub/mit-tri-robot/eis_sample_data/103965_5_20230918_073125_75.txt\n",
      "Length of Conductivity Array:0\n",
      "Number of Adequate Data Files:  1 | Number of Poor Data Files:  0 | Total Number of Files:  1\n"
     ]
    },
    {
     "data": {
      "text/plain": [
       "<Figure size 640x480 with 0 Axes>"
      ]
     },
     "metadata": {},
     "output_type": "display_data"
    },
    {
     "data": {
      "image/png": "[encoded data removed]",
      "text/plain": [
       "<Figure size 640x480 with 1 Axes>"
      ]
     },
     "metadata": {},
     "output_type": "display_data"
    },
    {
     "data": {
      "image/png": "[encoded data removed]",
      "text/plain": [
       "<Figure size 640x480 with 1 Axes>"
      ]
     },
     "metadata": {},
     "output_type": "display_data"
    }
   ],
   "source": [
    "'''\n",
    "Open and manage data from .txt files\n",
    "'''\n",
    "    \n",
    "bad_data = 0\n",
    "good_data = 0\n",
    "\n",
    "for path in useful_path:\n",
    "    \n",
    "    # Open the file for reading\n",
    "    with open(path, 'r') as file:\n",
    "        \n",
    "        # Extract sample information\n",
    "        # Split the path into directory and filename\n",
    "        directory, filename = os.path.split(path)\n",
    "        # Extract the file name without the extension\n",
    "        file_name_without_extension, file_extension = os.path.splitext(filename)\n",
    "        path_info = file_name_without_extension.split('_')\n",
    "        # Parse into useful variables\n",
    "        plate_str = path_info[0]\n",
    "        vial_str = path_info[1]\n",
    "        date_str = path_info[2]\n",
    "        vial_id_str = path_info[3]\n",
    "        temp_str = path_info[4]\n",
    "        \n",
    "        '''\n",
    "        conc_str = '0'\n",
    "        if int(vial_str) == 1:\n",
    "            conc_str = '0.2'\n",
    "        elif int(vial_str) == 4:\n",
    "            conc_str = '1'\n",
    "        elif int(vial_str) == 8:\n",
    "            conc_str = '2'\n",
    "        elif int(vial_str) == 13:\n",
    "            conc_str = '3.75'\n",
    "        '''\n",
    "        \n",
    "        path_id = \"Vial: \" + vial_str + \" | Temp: \" + temp_str + \" degC\"\n",
    "        # conc_id = conc_str + \" mol  at \" + temp_str + \"degC\"\n",
    "        \n",
    "        # Initialize arrays for impedance and conductivity values.\n",
    "        ReZOhm = []\n",
    "        ImZOhm = []\n",
    "        conductivity = []\n",
    "        i = 0\n",
    "        \n",
    "\n",
    "        area = math.pi*diameter**2/4\n",
    "                \n",
    "        # Parse each line in the .txt files to the correct array.\n",
    "        for line in file:\n",
    "            ZOhm_Values = line.split()\n",
    "            ReZOhm.append(float(ZOhm_Values[0]))\n",
    "            ImZOhm.append(float(ZOhm_Values[1]))\n",
    "            i += 1\n",
    "            \n",
    "        ZOhm = []\n",
    "        ZVector = []\n",
    "        ZPhase = []\n",
    "        \n",
    "        for i in range(len(ReZOhm)):\n",
    "            Z_temp = ReZOhm[i] - 1j*ImZOhm[i] # Rearrange into format of array. \n",
    "            ZOhm.append(Z_temp)\n",
    "            ZVector.append(math.sqrt(ReZOhm[i]**2+ImZOhm[i]**2))\n",
    "            ZPhase.append(math.atan(ImZOhm[i]/ReZOhm[i])*180/math.pi) # Phase in degrees = atan(Im|Z|/Re|Z|)\n",
    "            \n",
    "        Z = np.array(ZOhm)\n",
    "        \n",
    "        \n",
    "        # Clean up the data a bit so that we can estimate roots\n",
    "        f_min = 0 # How can I solve for this generally? If in this low frequency range and Im|Z| is increasing?\n",
    "        f_max = 1000000\n",
    "        \n",
    "        f_KK = f\n",
    "        Z_KK = Z\n",
    "        if len(Z) == len(f):\n",
    "            filter_mask = (f >= f_min) & (f <= f_max)\n",
    "            f_filter = f[filter_mask]\n",
    "            Z_filter = Z[filter_mask]\n",
    "            \n",
    "            min_Z_imag = min(-Z_filter.imag)\n",
    "            min_Z_imag_index = np.where(-Z.imag == min_Z_imag) # Position of circle min in Z\n",
    "            Z_circle = np.delete(Z, np.s_[int(min_Z_imag_index[0]) + 1:])\n",
    "            F_circle = np.delete(f, np.s_[int(min_Z_imag_index[0]) + 1:])\n",
    "            \n",
    "        \n",
    "        # Create a linear Kronig-Kramers model to fit data\n",
    "        try:\n",
    "            M, mu, Z_linKK, res_real, res_imag = linKK(f_KK, Z_KK, c=.85, max_M=100, fit_type='complex', add_cap=True)\n",
    "                            \n",
    "        except:\n",
    "            print(\"[XX] Data type and structure error in: \", file.name)\n",
    "            bad_data += 1\n",
    "            continue\n",
    "            \n",
    "        # Fit to an ellipse.. How shall we generalize?\n",
    "        h0 = 200 # Center position x\n",
    "        k0 = 0\n",
    "        a0 = 200 # x radius\n",
    "        b0 = 200 # y radius\n",
    "\n",
    "        p0 = (h0, k0, a0, b0)  # Initial guesses for parameters\n",
    "        \n",
    "        optimized_params, _ = curve_fit(ellipse, Z_circle.real, -Z_circle.imag, p0=p0, method='dogbox')\n",
    "        Re_Z_range = np.linspace(0, max(Z_circle.real)*1.2, 200)\n",
    "        Im_Z_fit = ellipse(Re_Z_range, *optimized_params)\n",
    "        figure_lim = max(Z_circle.real)*1.5\n",
    "\n",
    "        Z_poly = []\n",
    "        for i in range(len(Re_Z_range)):\n",
    "            Z_temp = Re_Z_range[i] - 1j*Im_Z_fit[i]\n",
    "            Z_poly.append(Z_temp)\n",
    "            \n",
    "        Z_low = Z_poly[0].real\n",
    "        Z_high = Re_Z_range[np.where(Im_Z_fit == min(Im_Z_fit))]\n",
    "        \n",
    "        conductivity_val = (1/Z_high[0])*length/area\n",
    "        print(\"Conductivity: \" + str(conductivity_val) + \" S/m\")\n",
    "            \n",
    "        Re_residuals_avg = statistics.mean(abs(res_real))\n",
    "        Im_residuals_avg = statistics.mean(abs(res_imag))\n",
    "        \n",
    "        if (data_filter_selection == 1):\n",
    "            bad_data_threshold = avg_residuals_cutoff\n",
    "        else:\n",
    "            bad_data_threshold = math.inf\n",
    "            \n",
    "        \n",
    "        # Use linKK to identify which datasets have large residuals. \n",
    "        if Re_residuals_avg > bad_data_threshold or Im_residuals_avg > bad_data_threshold:\n",
    "            print(\"[XX] High residuals in: \", file.name)\n",
    "            bad_data += 1\n",
    "            continue\n",
    "        else:\n",
    "            print(\"[!!] Residuals are good in: \", file.name)\n",
    "            good_data += 1\n",
    "            Z = ZOhm\n",
    "            \n",
    "            if (save_main_fig == 1):\n",
    "                pass\n",
    "            else:\n",
    "                circuit = user_circuit\n",
    "                # Initial guess of parameter values for ECM. From my observations this is a bit finnicky. \n",
    "                initial_guess = user_guess\n",
    "                circuit = CustomCircuit(circuit, initial_guess=initial_guess)\n",
    "                # Fit data to equivalent circuit model\n",
    "                circuit.fit(f, Z)\n",
    "                Z_fit = circuit.predict(f)\n",
    "\n",
    "                # Create Nyquist Plot\n",
    "                plt.figure(4)\n",
    "                modelFig, ax = plt.subplots()\n",
    "                plot_nyquist(Z_poly, fmt = '--', scale = 1, ax = ax)\n",
    "                plot_nyquist(Z, fmt='o', scale=1, ax=ax)\n",
    "                plot_nyquist(Z_fit, fmt='-', scale=1, ax=ax)\n",
    "                plot_nyquist(Z_linKK, fmt='-', scale=1, ax=ax)\n",
    "                # plot_nyquist(Z_poly, fmt='-', scale=1, ax=ax)\n",
    "                plt.legend(['Fitted Ellipse', path_id, 'Circuit Model', 'Kronig-Kramers Model', ])\n",
    "                plt.xlim((0, figure_lim))\n",
    "                plt.ylim((0, figure_lim))\n",
    "                modelFig.show()\n",
    "\n",
    "                # Plot residuals\n",
    "                plt.figure(5)\n",
    "                residualFig, ax2 = plt.subplots()\n",
    "                plot_residuals(ax2, f_KK, res_real, res_imag, y_limits=(-50, 50))\n",
    "                residualFig.show()\n",
    "            \n",
    "        '''\n",
    "        Make figures \n",
    "        '''\n",
    "        '''\n",
    "        plt.figure(1)\n",
    "        plt.plot(frequency, conductivity, label = path)\n",
    "        plt.title('Conductivity as a function of frequency')\n",
    "        plt.xlabel('Frequency [Hz]')\n",
    "        plt.ylabel('Conductivity [S/m]')\n",
    "        plt.legend(bbox_to_anchor=(1, 1))\n",
    "        # plt.ylim((0, 10))\n",
    "        '''\n",
    "\n",
    "        plt.figure(2)\n",
    "        #plt.loglog(ReZOhm, ImZOhm, label = path) # I know this is unconventional, but it makes it easier to look at multiple lines.\n",
    "        plt.plot(ReZOhm, ImZOhm, label = path_id)\n",
    "        # plt.plot(np.real(Z_linKK), -np.imag(Z_linKK), linestyle = '--', label = path)\n",
    "        plt.title('LiTFSI / LiClO4 PEO Sample from 10/2/2023')\n",
    "        plt.xlabel('Re|Z|')\n",
    "        plt.ylabel('Im|Z|')\n",
    "        plt.legend()\n",
    "        plt.xlim((0, figure_lim))\n",
    "        plt.ylim((0, figure_lim))\n",
    "\n",
    "        '''\n",
    "        plt.figure(3)\n",
    "        fig, ax1 = plt.subplots()\n",
    "        plt.title('Bode Plot: Magnitude and Phase as a function of Frequency')\n",
    "        color = 'tab:blue'\n",
    "        ax1.set_xlabel('Frequency [Hz]')\n",
    "        ax1.set_ylabel('Magnitude', color=color)\n",
    "        ax1.loglog(frequency, ZVector, label = path)\n",
    "        ax1.tick_params(axis='y', labelcolor=color)\n",
    "\n",
    "        ax2 = ax1.twinx()\n",
    "        color = 'tab:red'\n",
    "        ax2.set_ylabel('Phase', color=color)  # we already handled the x-label with ax1\n",
    "        ax2.loglog(frequency, ZPhase, color = color)\n",
    "        ax2.tick_params(axis='y', labelcolor=color)\n",
    "        '''\n",
    "\n",
    "        else:\n",
    "            print(\"Dimensionality Error in file:\" + path + \"\\nLength of Conductivity Array:\" + str(len(conductivity)))\n",
    "\n",
    "print(\"Number of Adequate Data Files: \", good_data, \"| Number of Poor Data Files: \", bad_data, \"| Total Number of Files: \", good_data+bad_data)\n",
    "\n",
    "if (save_main_fig == 1):\n",
    "    plt.savefig(save_path+'\\mainfigure.png')\n"
   ]
  },
  {
   "cell_type": "code",
   "execution_count": null,
   "id": "2bc33636-ecae-4461-91b8-6760df945234",
   "metadata": {},
   "outputs": [],
   "source": []
  },
  {
   "cell_type": "code",
   "execution_count": null,
   "id": "65eb3b19-b43d-4b00-85d6-9512918fb2e5",
   "metadata": {},
   "outputs": [],
   "source": []
  }
 ],
 "metadata": {
  "kernelspec": {
   "display_name": "Python 3 (ipykernel)",
   "language": "python",
   "name": "python3"
  },
  "language_info": {
   "codemirror_mode": {
    "name": "ipython",
    "version": 3
   },
   "file_extension": ".py",
   "mimetype": "text/x-python",
   "name": "python",
   "nbconvert_exporter": "python",
   "pygments_lexer": "ipython3",
   "version": "3.11.5"
  }
 },
 "nbformat": 4,
 "nbformat_minor": 5
}
