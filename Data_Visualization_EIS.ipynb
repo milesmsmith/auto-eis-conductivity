{
 "cells": [
  {
   "cell_type": "markdown",
   "id": "be202b6b",
   "metadata": {},
   "source": [
    "## Data_Visualization_EIS.ipynb\n",
    "#### Analyzes EIS Data from Big Kahuna for Convenient Feedback.\n",
    "##### Miles Smith\n",
    "##### 19 September 2023"
   ]
  },
  {
   "cell_type": "code",
   "execution_count": 1,
   "id": "136321f6-d58b-4112-84e4-3e48ec0d526f",
   "metadata": {
    "tags": []
   },
   "outputs": [],
   "source": [
    "import glob\n",
    "import os\n",
    "import math\n",
    "import statistics\n",
    "import matplotlib.pyplot as plt\n",
    "import numpy as np\n",
    "import openpyxl\n",
    "from scipy.optimize import curve_fit\n",
    "from scipy.interpolate import UnivariateSpline\n",
    "from scipy.signal import find_peaks, peak_widths\n",
    "from impedance import preprocessing\n",
    "from impedance.models.circuits import CustomCircuit\n",
    "# Note that altair was downgraded to v3.0 for impedance.\n",
    "from impedance.visualization import plot_nyquist, plot_residuals\n",
    "from impedance.validation import linKK\n",
    "from sympy import symbols, Eq, solve\n"
   ]
  },
  {
   "cell_type": "markdown",
   "id": "f47be87f-d8cc-44de-b9d4-330f78ddd0ab",
   "metadata": {},
   "source": [
    "###  Notes\n",
    "\n",
    "\n"
   ]
  },
  {
   "cell_type": "markdown",
   "id": "94a37f99-2f5b-4454-b606-5965496100dc",
   "metadata": {},
   "source": [
    "### Configure User Inputs"
   ]
  },
  {
   "cell_type": "code",
   "execution_count": 278,
   "id": "87c41746-ca92-47d9-91bb-f061065d24aa",
   "metadata": {
    "tags": []
   },
   "outputs": [],
   "source": [
    "data_name = '1 M NaPF6 in G4 (Cycle 1)'\n",
    "# Set the directory path to where the data files (*.txt) format are located on the computer\n",
    "directory_path = '/Users/milessmith/Documents/GitHub/mit-tri-robot/data/13Mar2024-CycledLiquids' # Miles MacBook Pro\n",
    "# directory_path = 'C:\\\\Users\\miles\\Documents\\GitHub\\mit-tri-robot\\eis_sample_data'\n",
    "# directory_path = 'C:\\EIS' # Unchained Labs computer USE THIS DIRECTORY PATH IN 6-020\n",
    "\n",
    "# Do you want to filter out bad data?\n",
    "data_filter_selection = 1 # 1 = yes / 0 = no\n",
    "# If yes, I use the expected value of the residuals compared to a model to determine if the data is adequate.\n",
    "# What should the threshold be to flag data?\n",
    "avg_residuals_cutoff = 0.05\n",
    "# avg_residuals_cutoff = math.inf\n",
    "\n",
    "# Cell Configuraton\n",
    "\n",
    "diameter = 0.0047579 # [m] Electrode diameter (0.007136 per Sawyer A=0.4 cm^2, 0.00803 measured); 0.00047579 for liquids\n",
    "thickness = 1575/10**6 #average thickness (0.000063708 m might work for now?); liquids: \n",
    "# thickness = 80/10**6\n",
    "# Select equivalent circuit model\n",
    "user_circuit = 'R0-p(R2-Wo1,C2)'\n",
    "# Initial guess of parameter values for ECM. From my observations this is a bit finnicky. \n",
    "user_guess = [10**4, 10**5, 10**5, 10**-1, 10**-10]\n",
    "\n",
    "# Do you want multiple plots or each data array to be overlapped on each other?\n",
    "overlay_data = 1  # 1 = yes | 0 = no\n",
    "\n",
    "# Do you want a Nyquist diagram for each test?\n",
    "create_nyquist = 1 # 1 = yes | 0 = no\n",
    "\n",
    "# Do you want a Bode diagram? \n",
    "create_bode = 0 # 1 = yes | 0 = no\n",
    "# Do you want to save the Bode plot?\n",
    "save_bode_fig = 0 # 1 = yes. | 0 = no\n",
    "\n",
    "# Do you want to save the main nyquist diagram generated?\n",
    "save_main_fig = 1 # 1 = yes | 0 = no\n",
    "save_figs = 1\n",
    "\n",
    "concs = [1]\n",
    "cmap = ['b']\n",
    "\n",
    "concentration_map = [\n",
    "    [1, 2, 3, 4, 5, 6, 7, 8, 9, 10], \n",
    "    [1, 1, 1, 1, 1, 1, 1, 1, 1, 1]\n",
    "]\n",
    "\n",
    "# What folder should the figure be saved to?\n",
    "save_path = '/Users/milessmith/Documents/GitHub/mit-tri-robot/figures' # Miles MacBook Pro\n",
    "# save_path = r'C:\\\\Users\\miles\\Documents\\GitHub\\mit-tri-robot\\figures' # Miles' Windows computer\n",
    "# save_path = r'C:\\\\Users\\Unchained Labs\\Documents\\GitHub\\mit-tri-robot\\figures' # 6-020 computer\n",
    "\n",
    "# Spreadsheet Path\n",
    "spreadsheet_path = '/Users/milessmith/Documents/GitHub/mit-tri-robot/eis_liquid_dataset.xlsx'"
   ]
  },
  {
   "cell_type": "markdown",
   "id": "40e90b15-5f0c-47c0-9d6c-8ce532b5d0ec",
   "metadata": {},
   "source": [
    "### Select Data files"
   ]
  },
  {
   "cell_type": "code",
   "execution_count": 279,
   "id": "3ce7dc51-a0c2-4bd0-be38-ade15081c54e",
   "metadata": {
    "tags": []
   },
   "outputs": [],
   "source": [
    "'''\n",
    "Example File structure: 103965_5_20230918_073125_25.txt\n",
    "Plate Number: 103965\n",
    "Electrode Number (?): 5\n",
    "Date: 20230918\n",
    "Electrode Code (?): 073125\n",
    "Temperature (degC): 25\n",
    "'''\n",
    "\n",
    "### NOTICE: The underscores are an important aspect of the strings for temp and electrode number. ###\n",
    "# plate_number1 = '104413_'\n",
    "plate_number1 = \"skip\"\n",
    "\n",
    "# vial_number = '_13_' # YOU CAN FILTER BY ELECTRODE NUMBER\n",
    "vial_number = \"skip\"\n",
    "\n",
    "# NOTE: Some of the dates are incorrect, so it might be good to configure the code to look at two dates. \n",
    "# date1 = '_20231002_' # PICK THE DATE OF THE SAMPLE YOU ARE INTERESTED\n",
    "date1 = \"skip\"\n",
    "\n",
    "\n",
    "# temperature = '_25' # YOU CAN FILTER BY TEMPERATURE\n",
    "temperature = \"skip\""
   ]
  },
  {
   "cell_type": "markdown",
   "id": "1979d584-b1c9-420c-93dc-fc834ee49e8d",
   "metadata": {},
   "source": [
    "### Frequency Range\n",
    "\n",
    "The text (.txt) does not include the frequency, so I am manually importing this from a .mpt file. \n",
    "If we adjust the frequency range, then we will need to adjust this, but from my observations we always sample\n",
    "using the same frequencies. This could be subject to change if we ever changed the scan rate, so it is\n",
    "important to be mindful!\n",
    "\n",
    "FYI: This specific frequency array probably only works as long as we are using a scan frequency of 0.2. "
   ]
  },
  {
   "cell_type": "code",
   "execution_count": 280,
   "id": "3a04a0c6",
   "metadata": {
    "tags": []
   },
   "outputs": [],
   "source": [
    "# Note: Freq[Hz]\n",
    "frequency = [ 6999984, 5969734, 5091109, 4341796, 3702781, 3157797, 2693047, 2296687, 1958656,1670375,\n",
    "             1424531,1214875,1036062,883578.100000000,753531.200000000,642624.900000000,548046.800000000, \n",
    "             467390.600000000, 398593.700000000, 339937.500000000, 289906.200000000, 247234.400000000, \n",
    "             210843.700000000, 179812.500000000, 153343.800000000, 130781.200000000, 111531.300000000,  \n",
    "             95109.3700000000, 81109.3700000000, 69171.8800000000, 59000, 50312.5000000000, 42906.2500000000, \n",
    "             36593.7500000000, 31203.1300000000, 26609.3800000000, 22703.1300000000, 19359.3700000000,  \n",
    "             16500, 14112.0200000000, 12011.1300000000, 10236.3800000000, 8750.68400000000, 7449.46300000000, \n",
    "             6363.20600000000, 5414.76100000000, 4620.56700000000, 3941.21500000000, 3361.76900000000, \n",
    "             2867.24400000000, 2442.65800000000, 2083.00300000000, 1777.84300000000, 1513.54800000000, \n",
    "             1292.06500000000, 1101.76200000000, 939.101000000000, 801.280100000000, 684.343300000000, \n",
    "             582.947600000000, 497.067700000000, 423.508900000000, 361.503600000000, 308.126200000000, \n",
    "             262.729800000000, 224.211100000000, 191.285400000000, 163.172200000000, 139.153700000000, \n",
    "             118.670600000000, 101.198200000000, 86.2419600000000, 73.6102400000000, 62.6929100000000, \n",
    "             53.5769700000000, 45.6574600000000, 38.9651200000000, 33.1841400000000, 28.3061700000000, \n",
    "             24.1723700000000, 20.6134500000000, 17.5561800000000, 14.9855800000000, 12.7655300000000, \n",
    "             10.8809000000000, 9.27850500000000, 7.92339400000000, 6.75822000000000, 5.76142900000000, \n",
    "             4.91970800000000, 4.19125700000000, 3.56409700000000, 3.05175800000000, 2.60416400000000, \n",
    "             2.21442400000000, 1.89256700000000, 1.60750700000000, 1.37641300000000, 1.17375000000000, \n",
    "             1.00160400000000 ]\n",
    "\n",
    "# For the cycled datasets. \n",
    "frequency = [7000018.50, 4735618.50, 3203718.80, 2167375.00, 1466263.40, 991955.56, 671067.75, 453987.91, 307137.03, 207782.81, 140569.33, 95095.38,\n",
    "             64337.14, 43525.46, 29440.69, 19920.95, 13472.39, 9120.52, 6300.40, 4171.33, 2822.29, 1909.39, 1292.06, 874.16, 591.32,  400.13]\n",
    "\n",
    "for i in range(len(frequency)):\n",
    "    frequency[i] = np.int32(frequency[i])\n",
    "\n",
    "f = np.array(frequency)"
   ]
  },
  {
   "cell_type": "markdown",
   "id": "038a4d95-735c-4fe0-8ba9-44a0114f2c41",
   "metadata": {},
   "source": [
    "### Helper Functions"
   ]
  },
  {
   "cell_type": "code",
   "execution_count": 281,
   "id": "c3e691f4-f550-4c02-b486-9e1e2c8b9894",
   "metadata": {
    "tags": []
   },
   "outputs": [],
   "source": [
    "def ellipse(x, h, k, a, b):\n",
    "    y = np.zeros(len(x))\n",
    "    for i in range(len(x)):\n",
    "        temp = np.sqrt(a**2 * (1 - ((x[i] - h) ** 2) / (a ** 2))) + k\n",
    "        if temp >= 0:\n",
    "            y[i] = temp\n",
    "        else:\n",
    "            y[i] = math.inf\n",
    "    return y\n",
    "\n",
    "def find_nearest(array, value):\n",
    "    array = np.asarray(array)\n",
    "    idx = (np.abs(array - value)).argmin()\n",
    "    return array[idx]\n",
    "\n",
    "def read_excel_file(file_path):\n",
    "    workbook = openpyxl.load_workbook(file_path)\n",
    "    sheet = workbook.active\n",
    "\n",
    "    # Assuming data is in a simple 2D range\n",
    "    data = []\n",
    "    for row in sheet.iter_rows(values_only=True):\n",
    "        data.append(row)\n",
    "\n",
    "    workbook.close()\n",
    "    return data\n",
    "\n",
    "def write_excel_file(file_path, data):\n",
    "    workbook = openpyxl.Workbook()\n",
    "    sheet = workbook.active\n",
    "\n",
    "    # Write data to the sheet\n",
    "    for row in data:\n",
    "        sheet.append(row)\n",
    "\n",
    "    # Save the workbook\n",
    "    workbook.save(file_path)\n",
    "    workbook.close()\n",
    "    \n",
    "def row_exists(data, new_row):\n",
    "    # Check if the new row already exists in the sheet\n",
    "    for row in sheet:\n",
    "        if row == new_row:\n",
    "            return True\n",
    "    return False"
   ]
  },
  {
   "cell_type": "code",
   "execution_count": 282,
   "id": "f45657d6-e3bf-431b-a0ed-2d4ec7fab2f2",
   "metadata": {
    "tags": []
   },
   "outputs": [],
   "source": [
    "class eis_data:\n",
    "    \n",
    "    def __init__(self):\n",
    "        self.name = []\n",
    "        self.plate_number = []\n",
    "        self.sample_number = []\n",
    "        self.date_characterized = []\n",
    "        self.concentration = []\n",
    "        self.temperature = []\n",
    "        self.spectra_f = []\n",
    "        self.complex_Z = []\n",
    "        self.linKK_Z = []\n",
    "        self.local_minima = []\n",
    "        self.Z_magnitude = []\n",
    "        self.Z_phase = []\n",
    "        self.circle_fit_z_real = []\n",
    "        self.circle_fit_z_estimated = []\n",
    "        self.conductance = []\n",
    "        "
   ]
  },
  {
   "cell_type": "markdown",
   "id": "4138c9a6-b838-402b-aec3-40777b1d7af4",
   "metadata": {
    "tags": []
   },
   "source": [
    "### Downsize dataset to only the files of interest"
   ]
  },
  {
   "cell_type": "code",
   "execution_count": 283,
   "id": "b9066393",
   "metadata": {
    "tags": []
   },
   "outputs": [
    {
     "name": "stdout",
     "output_type": "stream",
     "text": [
      "Number of files selected: 2\n"
     ]
    }
   ],
   "source": [
    "### Read in all file names in EIS folder ###\n",
    "\n",
    "# Specify the directory path and file extension pattern\n",
    "extension_pattern = '*.txt'  # List .txt files, for example\n",
    "\n",
    "# Get a list of file names matching the pattern in the directory\n",
    "path_names = glob.glob(os.path.join(directory_path, extension_pattern))\n",
    "\n",
    "# New list to append the files of interest\n",
    "useful_path = []\n",
    "for path in path_names:\n",
    "    if (date1 in path) or (date1 == \"skip\"):\n",
    "        if (vial_number in path) or (vial_number == \"skip\"):\n",
    "            if (temperature in path) or (temperature == \"skip\"):\n",
    "                # I should split this line up!\n",
    "                if (plate_number1 in path) or (plate_number1 == \"skip\"):\n",
    "                    useful_path.append(path)\n",
    "\n",
    "print(\"Number of files selected: \" + str(len(useful_path)))"
   ]
  },
  {
   "cell_type": "markdown",
   "id": "1246c727-1e81-4fc2-aa39-8a83fcbca0f2",
   "metadata": {},
   "source": [
    "#### Import each file of data. Quantify the quality of the data. "
   ]
  },
  {
   "cell_type": "code",
   "execution_count": 284,
   "id": "bb97966e-abca-42ad-8480-8bbbc4f0267b",
   "metadata": {
    "tags": []
   },
   "outputs": [
    {
     "name": "stdout",
     "output_type": "stream",
     "text": [
      "1\n"
     ]
    }
   ],
   "source": [
    "data_fail = 0\n",
    "data_pass = 0\n",
    "\n",
    "eis = eis_data()\n",
    "eis.name = data_name\n",
    "for path in useful_path:\n",
    "    \n",
    "    #Import data\n",
    "    with open(path,'r') as file:\n",
    "        # Parse data from file name\n",
    "        directory, filename = os.path.split(path)\n",
    "        file_name_without_extension, file_extension = os.path.splitext(filename)\n",
    "        path_info = file_name_without_extension.split('_')\n",
    "        \n",
    "        plate_number = int(path_info[0])\n",
    "        sample_number = int(path_info[1])\n",
    "        sample_date = str(path_info[2])\n",
    "        sample_temp = int(path_info[4])\n",
    "        \n",
    "        # Extract data from file\n",
    "        ReZOhm = []\n",
    "        ImZOhm = []\n",
    "        ComplexZOhm = []\n",
    "                \n",
    "        for line in file:\n",
    "            ZOhm_Values = line.split()\n",
    "            ReZOhm.append(float(ZOhm_Values[0]))\n",
    "            ImZOhm.append(float(ZOhm_Values[1]))\n",
    "            ComplexZOhm.append(float(ZOhm_Values[0]) - 1j*float(ZOhm_Values[1]))\n",
    "        \n",
    "        \n",
    "        Z = np.array(ComplexZOhm)\n",
    "        \n",
    "        # Create a linear Kronig-Kramers model to fit data\n",
    "        try:\n",
    "            M, mu, Z_linKK, res_real, res_imag = linKK(f, Z, c=.85, max_M=100, fit_type='complex', add_cap=True)\n",
    "            Re_residuals_avg = statistics.mean(abs(res_real))\n",
    "            Im_residuals_avg = statistics.mean(abs(res_imag))\n",
    "            if (data_filter_selection == 1):\n",
    "                bad_data_threshold = avg_residuals_cutoff\n",
    "            else:\n",
    "                bad_data_threshold = math.inf\n",
    "        except:\n",
    "            data_fail += 1\n",
    "            continue\n",
    "            \n",
    "        # Use linKK to identify which datasets have large residuals and add good data to eis object\n",
    "        if Re_residuals_avg < bad_data_threshold or Im_residuals_avg < bad_data_threshold:\n",
    "            \n",
    "            eis_local_min, _ = find_peaks(Z_linKK.imag, prominence = 1)\n",
    "            if len(eis_local_min) > 0:\n",
    "                data_pass += 1\n",
    "\n",
    "                concentration_idx = concentration_map[0].index(sample_number)\n",
    "                eis.concentration.append(concentration_map[1][concentration_idx])\n",
    "                eis.plate_number.append(plate_number)\n",
    "                eis.sample_number.append(sample_number)\n",
    "                eis.date_characterized.append(sample_date)\n",
    "                eis.temperature.append(sample_temp)\n",
    "                eis.spectra_f = f\n",
    "                eis.complex_Z.append(Z)\n",
    "                eis.linKK_Z.append(Z_linKK)\n",
    "                eis.local_minima.append(eis_local_min)\n",
    "\n",
    "        else:\n",
    "            data_fail += 1\n",
    "            continue\n",
    "\n",
    "print(data_fail)"
   ]
  },
  {
   "cell_type": "markdown",
   "id": "ad4051de-6a53-4730-a0a3-8fa86a64b721",
   "metadata": {},
   "source": [
    "#### Calculate magnitude and phase for Bode diagram"
   ]
  },
  {
   "cell_type": "code",
   "execution_count": 285,
   "id": "d3eb6c3d-87f8-450a-b92d-9ca4ba526f1d",
   "metadata": {
    "tags": []
   },
   "outputs": [],
   "source": [
    "for i in range(len(eis.sample_number)):\n",
    "    # Bode Diagram\n",
    "    ZOhm = []\n",
    "    ZVector = []\n",
    "    ZPhase = []\n",
    "\n",
    "    for j in range(len(eis.complex_Z[i])):\n",
    "        ReZOhm = eis.complex_Z[i][j].real\n",
    "        ImZOhm = eis.complex_Z[i][j].imag\n",
    "        ZVector.append(math.sqrt(ReZOhm**2+ImZOhm**2))\n",
    "        ZPhase.append(math.atan(ImZOhm/ReZOhm)*180/math.pi) # Phase in degrees = atan(Im|Z|/Re|Z|)\n",
    "    \n",
    "    eis.Z_magnitude.append(ZVector)\n",
    "    eis.Z_phase.append(ZPhase)"
   ]
  },
  {
   "cell_type": "markdown",
   "id": "d832713d-f41a-4670-9dc2-152247d9eb28",
   "metadata": {},
   "source": [
    "#### Make Bode and Nyquist Diagrams"
   ]
  },
  {
   "cell_type": "code",
   "execution_count": 286,
   "id": "87a770c8-6c73-466d-b6b2-092d8103b07b",
   "metadata": {
    "tags": []
   },
   "outputs": [
    {
     "data": {
      "image/png": "[encoded data removed]",
      "text/plain": [
       "<Figure size 640x480 with 2 Axes>"
      ]
     },
     "metadata": {},
     "output_type": "display_data"
    },
    {
     "data": {
      "image/png": "[encoded data removed]",
      "text/plain": [
       "<Figure size 640x480 with 1 Axes>"
      ]
     },
     "metadata": {},
     "output_type": "display_data"
    }
   ],
   "source": [
    "bode_fig, bode_ax = plt.subplots(2)\n",
    "nyquist_fig, nyquist_ax = plt.subplots(1)\n",
    "                                 \n",
    "for i in range(len(eis.sample_number)):\n",
    "    sample_label = (str(eis.plate_number[i]) + '-' + str(eis.sample_number[i]) + ' | ' + str(eis.temperature[i]) + 'degC')\n",
    "    \n",
    "    conc_idx = concs.index(eis.concentration[i])\n",
    "    color = cmap[conc_idx]\n",
    "    \n",
    "    bode_ax[0].loglog(eis.spectra_f, eis.Z_magnitude[i], c = color, label = eis.concentration[i])\n",
    "    bode_ax[1].semilogx(eis.spectra_f, eis.Z_magnitude[i], c = color, label = eis.concentration[i])\n",
    "    \n",
    "    nyquist_ax.plot(eis.complex_Z[i].real, -eis.complex_Z[i].imag, c = color, label= str(eis.concentration[i]) + ' mol/kg')\n",
    "    \n",
    "nyquist_ax.set_xlim([0, 1000])\n",
    "nyquist_ax.set_ylim([0, 1000])\n",
    "nyquist_ax.set_title('Nyquist Diagram of ' + eis.name) # + ' at ' + str((eis.concentration[0])) + ' mol/kg' )\n",
    "nyquist_ax.legend(loc='center left', bbox_to_anchor=(1, 0.5))\n",
    "\n",
    "bode_ax[0].set_title('Bode Plot of ' + eis.name)\n",
    "bode_ax[0].legend(loc='center left', bbox_to_anchor=(1, 0.5))\n",
    "bode_ax[1].legend(loc='center left', bbox_to_anchor=(1, 0.5))\n",
    "bode_ax[1].set_xlabel('Frequency [Hz]')\n",
    "bode_ax[0].set_ylabel('|Z| [Ohms]')\n",
    "bode_ax[1].set_ylabel('Phase [Degrees]')\n",
    "bode_ax[0].set_xlim([1, 10**7])\n",
    "bode_ax[1].set_xlim([1, 10**7])\n",
    "\n",
    "if save_figs == 1:\n",
    "    bode_fig.savefig(save_path + '/' + str(eis.date_characterized[0]) + eis.name + '_bode.png', bbox_inches='tight')\n",
    "    nyquist_fig.savefig(save_path + '/' + str(eis.date_characterized[0]) + eis.name + '_nyquist_' + str(eis.concentration[0]) + '.png', bbox_inches='tight')\n",
    "    # bode_fig.savefig(save_path + '/' + str(eis.date_characterized) + eis.name + '_bode.png', bbox_inches='tight')\n",
    "    # nyquist_fig.savefig(save_path + '/' + str(eis.date_characterized) + eis.name + '_nyquist_' + str(eis.concentration) + '.png', bbox_inches='tight')\n"
   ]
  },
  {
   "cell_type": "markdown",
   "id": "9ca9549a-16fe-4622-bccf-d4c50955eb87",
   "metadata": {},
   "source": [
    "#### Calculate conductance from Nyquist diagram"
   ]
  },
  {
   "cell_type": "code",
   "execution_count": 287,
   "id": "b1b6aaa7-4395-457a-a2f2-17e6f8e66379",
   "metadata": {
    "tags": []
   },
   "outputs": [],
   "source": [
    "for i in range(len(eis.sample_number)):\n",
    "    z = eis.complex_Z[i][0:eis.local_minima[i][-1]]    \n",
    "    h0 = max(z.real)/2 # Center position x\n",
    "    k0 = 0\n",
    "    a0 = max(z.real)/2 # x radius\n",
    "    b0 = max(z.real)/2 # y radius\n",
    "    p0 = (h0, k0, a0, b0)  # Initial guesses for parameters\n",
    "    \n",
    "    \n",
    "    try:\n",
    "        optimized_params, _ = curve_fit(ellipse, z.real, -z.imag, p0=p0)\n",
    "\n",
    "        hf = optimized_params[0]\n",
    "        kf = optimized_params[1]\n",
    "        af = optimized_params[2]\n",
    "        bf = optimized_params[3]\n",
    "\n",
    "        # Define variables\n",
    "        x = symbols('x')\n",
    "        # Equation of the semi-circle\n",
    "        equation = Eq(((x - hf)**2) / (af**2) + (kf**2) / (bf**2), 1)\n",
    "\n",
    "        # Solve for x\n",
    "        roots = solve(equation, x)\n",
    "        conductance = 1/abs(roots[1] - roots[0])\n",
    "\n",
    "        z_imag_circle = ellipse(z.real,h0,k0,a0,b0)\n",
    "\n",
    "        eis.conductance.append(conductance)\n",
    "        eis.circle_fit_z_real.append(z.real)\n",
    "        eis.circle_fit_z_estimated.append(z_imag_circle)\n",
    "    except:\n",
    "        conductance = 0 \n",
    "        eis.conductance.append(conductance)\n",
    "        eis.circle_fit_z_real.append([0])\n",
    "        eis.circle_fit_z_estimated.append([0])"
   ]
  },
  {
   "cell_type": "markdown",
   "id": "cabf26f5-4806-4917-a668-34c9e18c89a1",
   "metadata": {},
   "source": [
    "#### Fit equivalent circuit model, generate each Nyquist diagram"
   ]
  },
  {
   "cell_type": "markdown",
   "id": "15481d32-220f-4787-8ecc-d2a862e6fbaf",
   "metadata": {},
   "source": [
    "* Note that the ECM fitting is not working well. How can we pick the initial guess effectively?"
   ]
  },
  {
   "cell_type": "code",
   "execution_count": 288,
   "id": "eaabcdea-f9e4-400e-8e0c-a879eb724b49",
   "metadata": {
    "tags": []
   },
   "outputs": [
    {
     "ename": "TypeError",
     "evalue": "'Axes' object is not subscriptable",
     "output_type": "error",
     "traceback": [
      "\u001b[0;31m---------------------------------------------------------------------------\u001b[0m",
      "\u001b[0;31mTypeError\u001b[0m                                 Traceback (most recent call last)",
      "Cell \u001b[0;32mIn[288], line 16\u001b[0m\n\u001b[1;32m     13\u001b[0m circuit\u001b[38;5;241m.\u001b[39mfit(eis\u001b[38;5;241m.\u001b[39mspectra_f, eis\u001b[38;5;241m.\u001b[39mcomplex_Z[i])\n\u001b[1;32m     14\u001b[0m Z_fit \u001b[38;5;241m=\u001b[39m circuit\u001b[38;5;241m.\u001b[39mpredict(eis\u001b[38;5;241m.\u001b[39mspectra_f)\n\u001b[0;32m---> 16\u001b[0m ecm_ax[\u001b[38;5;28mint\u001b[39m(i\u001b[38;5;241m/\u001b[39mfig_cols)][i\u001b[38;5;241m%\u001b[39mfig_cols]\u001b[38;5;241m.\u001b[39mplot(eis\u001b[38;5;241m.\u001b[39mcomplex_Z[i]\u001b[38;5;241m.\u001b[39mreal, \u001b[38;5;241m-\u001b[39meis\u001b[38;5;241m.\u001b[39mcomplex_Z[i]\u001b[38;5;241m.\u001b[39mimag, \u001b[38;5;124m'\u001b[39m\u001b[38;5;124m.\u001b[39m\u001b[38;5;124m'\u001b[39m, markersize\u001b[38;5;241m=\u001b[39m\u001b[38;5;241m6\u001b[39m, color\u001b[38;5;241m=\u001b[39m\u001b[38;5;124m'\u001b[39m\u001b[38;5;124mblack\u001b[39m\u001b[38;5;124m'\u001b[39m)\n\u001b[1;32m     17\u001b[0m \u001b[38;5;66;03m#ecm_ax[int(i/fig_cols)][i%fig_cols].plot(Z_fit.real, -Z_fit.imag, '--',color='black',alpha=0.6)\u001b[39;00m\n\u001b[1;32m     18\u001b[0m ecm_ax[\u001b[38;5;28mint\u001b[39m(i\u001b[38;5;241m/\u001b[39mfig_cols)][i\u001b[38;5;241m%\u001b[39mfig_cols]\u001b[38;5;241m.\u001b[39mplot(eis\u001b[38;5;241m.\u001b[39mlinKK_Z[i]\u001b[38;5;241m.\u001b[39mreal, \u001b[38;5;241m-\u001b[39meis\u001b[38;5;241m.\u001b[39mlinKK_Z[i]\u001b[38;5;241m.\u001b[39mimag,\u001b[38;5;124m'\u001b[39m\u001b[38;5;124m-\u001b[39m\u001b[38;5;124m'\u001b[39m,color\u001b[38;5;241m=\u001b[39m\u001b[38;5;124m'\u001b[39m\u001b[38;5;124mgray\u001b[39m\u001b[38;5;124m'\u001b[39m)\n",
      "\u001b[0;31mTypeError\u001b[0m: 'Axes' object is not subscriptable"
     ]
    },
    {
     "data": {
      "image/png": "[encoded data removed]",
      "text/plain": [
       "<Figure size 640x480 with 5 Axes>"
      ]
     },
     "metadata": {},
     "output_type": "display_data"
    }
   ],
   "source": [
    "circuit = user_circuit\n",
    "# Initial guess of parameter values for ECM. From my observations this is a bit finnicky. \n",
    "p0 = [10**0, 10**4, 10**6, 10**-7, 10**-7]\n",
    "\n",
    "circuit = CustomCircuit(circuit, initial_guess=p0)\n",
    "# Fit data to equivalent circuit model\n",
    "fig_cols = 5\n",
    "\n",
    "ecm_fig, ecm_ax = plt.subplots(int(len(eis.sample_number)/fig_cols)+1, ncols=fig_cols)\n",
    "\n",
    "for i in range(len(eis.sample_number)):\n",
    "\n",
    "    circuit.fit(eis.spectra_f, eis.complex_Z[i])\n",
    "    Z_fit = circuit.predict(eis.spectra_f)\n",
    "\n",
    "    ecm_ax[int(i/fig_cols)][i%fig_cols].plot(eis.complex_Z[i].real, -eis.complex_Z[i].imag, '.', markersize=6, color='black')\n",
    "    #ecm_ax[int(i/fig_cols)][i%fig_cols].plot(Z_fit.real, -Z_fit.imag, '--',color='black',alpha=0.6)\n",
    "    ecm_ax[int(i/fig_cols)][i%fig_cols].plot(eis.linKK_Z[i].real, -eis.linKK_Z[i].imag,'-',color='gray')\n",
    "    ecm_ax[int(i/fig_cols)][i%fig_cols].plot(eis.circle_fit_z_real[i], eis.circle_fit_z_estimated[i],'--',color='darkgray')\n",
    "    ecm_ax[int(i/fig_cols)][i%fig_cols].set_xlabel('Re|Z| [Ohms]')\n",
    "    ecm_ax[int(i/fig_cols)][i%fig_cols].set_ylabel('Im|Z| [Ohms]')\n",
    "    ecm_ax[int(i/fig_cols)][i%fig_cols].set_title(eis.name + ': ' + str(eis.concentration[i]) + ' mol/kg at ' + str(eis.temperature[i]) + ' ℃')\n",
    "    ecm_ax[int(i/fig_cols)][i%fig_cols].set_xlim([0, max(eis.circle_fit_z_real[i])*1.5])\n",
    "    ecm_ax[int(i/fig_cols)][i%fig_cols].set_ylim([0, max(eis.circle_fit_z_real[i])*1.5])\n",
    "    ecm_fig.set_figheight(int(len(eis.sample_number)/fig_cols)*12)\n",
    "    ecm_fig.set_figwidth(fig_cols*12)\n",
    "\n",
    "if save_figs == 1:\n",
    "    ecm_fig.savefig(save_path + '/' + str(eis.date_characterized[i]) + '_' + eis.name + '_'+ str(min(eis.concentration)) +'_'+ str(max(eis.concentration)) + '_m' +'_nyquist.png', bbox_inches='tight', dpi=100)"
   ]
  },
  {
   "cell_type": "markdown",
   "id": "9313cf1b-319e-4089-97d6-b4897cf4b64a",
   "metadata": {},
   "source": [
    "#### Conductance - Concentration and Conductance - Temperature Diagrams"
   ]
  },
  {
   "cell_type": "code",
   "execution_count": 289,
   "id": "06257210-5f3c-455c-a245-950e320bc721",
   "metadata": {
    "tags": []
   },
   "outputs": [
    {
     "data": {
      "image/png": "[encoded data removed]",
      "text/plain": [
       "<Figure size 800x1200 with 2 Axes>"
      ]
     },
     "metadata": {},
     "output_type": "display_data"
    }
   ],
   "source": [
    "conductance_fig, conductance_ax = plt.subplots(2)\n",
    "area = math.pi*diameter**2/4\n",
    "\n",
    "color_array = ['b', 'g', 'r', 'c', 'm', 'y', 'k', 'w']\n",
    "marker_array = ['o','*','.',',', 'x','X','P','s','D','d','p','H','h','v','^','<','>','1','2','3','4','|','_']\n",
    "\n",
    "\n",
    "for i in range(len(eis.sample_number)):\n",
    "    \n",
    "    if i % 2 == 1:\n",
    "        label_direction = 1\n",
    "    else:\n",
    "        label_direction = -1\n",
    "        \n",
    "    if eis.sample_number[i] > len(color_array):\n",
    "        shift = 1\n",
    "    else:\n",
    "        shift = 0\n",
    "    \n",
    "    color_idx = eis.sample_number[i]%len(color_array)\n",
    "    sample_color = color_array[eis.sample_number[i]%len(color_array) + shift]\n",
    "    sample_marker = marker_array[eis.sample_number[i]]\n",
    "    temp_color = color_array[int(eis.temperature[i]/10-2)]\n",
    "    \n",
    "    conductivity = eis.conductance[i]/area*thickness/100\n",
    "    conductance_ax[0].semilogy(eis.temperature[i], conductivity,marker='.', markersize='5', color='black', label=eis.concentration[i])\n",
    "    conductance_ax[0].annotate(eis.concentration[i],\n",
    "                               (eis.temperature[i], conductivity),\n",
    "                               textcoords=\"offset points\",\n",
    "                               xytext=(label_direction*10,0),\n",
    "                               ha='center')\n",
    "    conductance_ax[0].set_xlabel('Temperature [℃]')\n",
    "    conductance_ax[0].set_ylabel('Conductivity [S/cm]')\n",
    "    conductance_ax[0].set_title('Conductivity-Temperature Relationship for ' + data_name)\n",
    "    conductance_ax[1].semilogy(eis.concentration[i], conductivity,marker='.', markersize='5', color='black', label=eis.sample_number[i])\n",
    "    conductance_ax[1].annotate(eis.temperature[i],\n",
    "                               (eis.concentration[i], conductivity),\n",
    "                               textcoords=\"offset points\",\n",
    "                               xytext=(label_direction*10,0),\n",
    "                               ha='center')\n",
    "    conductance_ax[1].set_title('Conductivity-Concentration Relationship for ' + data_name)\n",
    "    conductance_ax[1].set_ylabel('Conductivity [S/cm]')\n",
    "    conductance_ax[1].set_xlabel('Concentration [mol/kg]')\n",
    "    conductance_ax[1].set_ylim([10**-7, 10**-3])\n",
    "    conductance_ax[0].set_ylim([10**-7, 10**-3])\n",
    "\n",
    "\n",
    "    conductance_fig.set_figheight(12)\n",
    "    conductance_fig.set_figwidth(8)\n",
    "    \n",
    "if save_figs == 1:\n",
    "    conductance_fig.savefig(save_path + '/' +  str(eis.date_characterized[i]) + '_' +eis.name + '_'+ str(min(eis.concentration)) +'_'+ str(max(eis.concentration)) + '_m' + '_conductivity.png', bbox_inches='tight',dpi=600)"
   ]
  },
  {
   "cell_type": "markdown",
   "id": "5bd7b5cb-972b-42a8-a7d5-57636b40aa27",
   "metadata": {},
   "source": [
    "#### Save to Dataset"
   ]
  },
  {
   "cell_type": "code",
   "execution_count": 277,
   "id": "85d3d4ee-a92a-4214-9dfd-5cd9a8767e51",
   "metadata": {
    "tags": []
   },
   "outputs": [
    {
     "name": "stdout",
     "output_type": "stream",
     "text": [
      "------- Original Data -------\n",
      "('Date', 'Name', 'Sample Number', 'Concentration (mol/kg)', 'Plate Number', 'Temperature (℃)', 'Conductivity (S/cm)')\n",
      "(20240313, '1M NaFSI in FEC', 3, 1, 104413, 25, 0.0001301335838023143)\n",
      "(20240313, '1M NaFSI in FEC', 2, 1, 104413, 25, 0.0001366572488080447)\n",
      "(20240313, '1M NaFSI in FEC', 5, 1, 104413, 25, 0.0002358360622169069)\n",
      "(20240313, '1M NaFSI in FEC', 4, 1, 104413, 25, 0.000146502428831771)\n",
      "(20240313, '1M NaFSI in FEC', 1, 1, 104413, 25, 0.0002088167117231319)\n",
      "(20240313, '1 M NaPF6 in G4', 6, 1, 104413, 25, 6.330095531304457e-05)\n",
      "(20240313, '1 M NaPF6 in G4', 7, 1, 104413, 25, 7.371096266865224e-05)\n",
      "(20240313, '1 M NaPF6 in G4', 9, 1, 104413, 25, 6.117893384906854e-05)\n",
      "(20240313, '1 M NaPF6 in G4', 8, 1, 104413, 25, 6.45955909449555e-05)\n",
      "(20240313, '1 M NaFSI in FEC (Cycle 201)', 2, 1, 104413, 201, 9.375660886284845e-05)\n",
      "(20240313, '1 M NaFSI in FEC (Cycle 201)', 1, 1, 104413, 201, 6.626135374969795e-05)\n",
      "(20240313, '1 M NaFSI in FEC (Cycle 1)', 2, 1, 104413, 1, 0.0001018836061309819)\n",
      "(20240313, '1 M NaFSI in FEC (Cycle 1)', 1, 1, 104413, 1, 7.423349037558278e-05)\n",
      "(20240313, '1 M NaPf6 in G4 (Cycle 1)', 3, 1, 104413, 1, 6.7358638503092e-05)\n",
      "------- New Data -------\n",
      "[20240313, '1 M NaPF6 in G4 (Cycle 201)', 3, 1, 104413, 201, 6.0772813489225736e-05]\n"
     ]
    },
    {
     "name": "stdin",
     "output_type": "stream",
     "text": [
      "Would you live to save this data? 1\n"
     ]
    },
    {
     "name": "stdout",
     "output_type": "stream",
     "text": [
      "Data saved\n"
     ]
    }
   ],
   "source": [
    "data = []\n",
    "\n",
    "existing_data = read_excel_file(spreadsheet_path)\n",
    "print('------- Original Data -------')\n",
    "for row in existing_data:\n",
    "    data.append(row)\n",
    "    print(row)\n",
    "    \n",
    "print('------- New Data -------')\n",
    "\n",
    "for i in range(len(eis.sample_number)):\n",
    "    \n",
    "    new_row = [int(eis.date_characterized[i]), eis.name, int(eis.sample_number[i]), eis.concentration[i], int(eis.plate_number[i]), int(eis.temperature[i]), float(eis.conductance[i]*thickness/area/100)]  \n",
    "    # Figure out how to only add new data to the dataset. \n",
    "    data.append(new_row)\n",
    "    print(new_row)\n",
    "    \n",
    "save_data_prompt = int(input('Would you live to save this data?'))\n",
    "if save_data_prompt == 1:    \n",
    "    write_excel_file(spreadsheet_path, data)\n",
    "    print('Data saved')\n",
    "else:\n",
    "    print('Data not saved.')"
   ]
  },
  {
   "cell_type": "markdown",
   "id": "1ec7b556-e903-46ac-baa0-b711b4b90e92",
   "metadata": {},
   "source": [
    "### Data Import, Basic Analysis, and Figures\n",
    "Here I imported the data from the system and did basic calculations for further analysis.\n"
   ]
  },
  {
   "cell_type": "code",
   "execution_count": null,
   "id": "67d3e634-2734-4d4b-8366-bea8bf001d6f",
   "metadata": {
    "tags": []
   },
   "outputs": [],
   "source": [
    "'''\n",
    "Open and manage data from .txt files\n",
    "'''\n",
    "    \n",
    "bad_data = 0\n",
    "good_data = 0\n",
    "\n",
    "bode_fig, bode_ax = plt.subplots(2)\n",
    "\n",
    "\n",
    "for path in useful_path:\n",
    "    \n",
    "    # Open the file for reading\n",
    "    with open(path, 'r') as file:\n",
    "        \n",
    "        # Extract sample information\n",
    "        # Split the path into directory and filename\n",
    "        directory, filename = os.path.split(path)\n",
    "        # Extract the file name without the extension\n",
    "        file_name_without_extension, file_extension = os.path.splitext(filename)\n",
    "        path_info = file_name_without_extension.split('_')\n",
    "        # Parse into useful variables\n",
    "        plate_str = path_info[0]\n",
    "        vial_str = path_info[1]\n",
    "        date_str = path_info[2]\n",
    "        vial_id_str = path_info[3]\n",
    "        temp_str = path_info[4]\n",
    "        \n",
    "        '''\n",
    "        conc_str = '0'\n",
    "        if int(vial_str) == 1:\n",
    "            conc_str = '0.2'\n",
    "        elif int(vial_str) == 4:\n",
    "            conc_str = '1'\n",
    "        elif int(vial_str) == 8:\n",
    "            conc_str = '2'\n",
    "        elif int(vial_str) == 13:\n",
    "            conc_str = '3.75'\n",
    "        '''\n",
    "        \n",
    "        path_id = \"Sample: \" + plate_str + \"-\" + vial_str + \" | Temp: \" + temp_str + \" degC\"\n",
    "        # conc_id = conc_str + \" mol  at \" + temp_str + \"degC\"\n",
    "        \n",
    "        # Initialize arrays for impedance and conductivity values.\n",
    "        ReZOhm = []\n",
    "        ImZOhm = []\n",
    "        conductivity = []\n",
    "        i = 0\n",
    "\n",
    "        area = math.pi*diameter**2/4\n",
    "                \n",
    "        # Parse each line in the .txt files to the correct array.\n",
    "        for line in file:\n",
    "            ZOhm_Values = line.split()\n",
    "            ReZOhm.append(float(ZOhm_Values[0]))\n",
    "            ImZOhm.append(float(ZOhm_Values[1]))\n",
    "            i += 1\n",
    "        \n",
    "        # Bode Diagram\n",
    "        ZOhm = []\n",
    "        ZVector = []\n",
    "        ZPhase = []\n",
    "        \n",
    "        for i in range(len(ReZOhm)):\n",
    "            Z_temp = ReZOhm[i] - 1j*ImZOhm[i] # Rearrange into format of array. \n",
    "            ZOhm.append(Z_temp)\n",
    "            ZVector.append(math.sqrt(ReZOhm[i]**2+ImZOhm[i]**2))\n",
    "            ZPhase.append(math.atan(ImZOhm[i]/ReZOhm[i])*180/math.pi) # Phase in degrees = atan(Im|Z|/Re|Z|)\n",
    "            \n",
    "        Z = np.array(ZOhm)\n",
    "                \n",
    "        f_KK = f\n",
    "        Z_KK = Z\n",
    "        \n",
    "        # Create a linear Kronig-Kramers model to fit data\n",
    "        try:\n",
    "            M, mu, Z_linKK, res_real, res_imag = linKK(f_KK, Z_KK, c=.85, max_M=100, fit_type='complex', add_cap=True)\n",
    "            Re_residuals_avg = statistics.mean(abs(res_real))\n",
    "            Im_residuals_avg = statistics.mean(abs(res_imag))\n",
    "            if (data_filter_selection == 1):\n",
    "                bad_data_threshold = avg_residuals_cutoff\n",
    "            else:\n",
    "                bad_data_threshold = math.inf\n",
    "        except:\n",
    "            print(\"[XX] Data type and structure error in: \", file.name)\n",
    "            bad_data += 1\n",
    "            continue\n",
    "            \n",
    "        # Use linKK to identify which datasets have large residuals. \n",
    "        if Re_residuals_avg < bad_data_threshold or Im_residuals_avg < bad_data_threshold:\n",
    "            # print(\"[!!] Residuals are good in: \", file.name)\n",
    "            good_data += 1\n",
    "            Z = ZOhm\n",
    "\n",
    "        else:\n",
    "            # print(\"[XX] High residuals in: \", file.name)\n",
    "            bad_data += 1\n",
    "            continue\n",
    "        \n",
    "        if len(Z) == len(f):\n",
    "            dZ = np.zeros(len(res_imag))\n",
    "            critical_points = []\n",
    "            prev_median = 1\n",
    "            for i in range(len(res_imag)):\n",
    "                if i > 0:\n",
    "                    dZ[i] = -(res_imag[i]-res_imag[i-1])\n",
    "                    buff_size = 10\n",
    "                    if i > buff_size:\n",
    "                        temp_buf = []\n",
    "                        for j in range(buff_size):\n",
    "                            temp_buf.append(dZ[i-j])\n",
    "                        temp_median = statistics.median(temp_buf)\n",
    "                        if (temp_median > 0) and (prev_median < 0):\n",
    "                            critical_points.append(i)\n",
    "                        prev_median = temp_median\n",
    "            \n",
    "            print(critical_points)\n",
    "            erroneous_critical_point_index = 40\n",
    "            if critical_points[0] > erroneous_critical_point_index or len(critical_points) == 1:\n",
    "                Z_circle = Z_linKK[1:critical_points[0]]\n",
    "            else:\n",
    "                Z_circle = Z_linKK[1:critical_points[1]-15]\n",
    "        \n",
    "        # Fit to an ellipse.. How shall we generalize?\n",
    "        h0 = max(Z_circle.real)/2 # Center position x\n",
    "        print(\"h0 2: \" + str(h0))\n",
    "        k0 = 0\n",
    "        a0 = max(Z_circle.real)/2 # x radius\n",
    "        b0 = max(Z_circle.real)/2 # y radius\n",
    "\n",
    "        p0 = (h0, k0, a0, b0)  # Initial guesses for parameters\n",
    "\n",
    "        try:\n",
    "            optimized_params, _ = curve_fit(ellipse, Z_circle.real, -Z_circle.imag, p0=p0, method='dogbox')\n",
    "            Re_Z_range = np.linspace(0, max(Z_circle.real)*1.5, 100)\n",
    "            Im_Z_fit = ellipse(Re_Z_range, *optimized_params)\n",
    "            # print(\"[!!] Vial: \" + vial_str + \" Temp: \" + temp_str + \" | Parameters converged\")\n",
    "            # conductivity_val = (1/Z_high[0])*length/area\n",
    "            conductivity_val = (1/(2*optimized_params[2]))*length/area\n",
    "            print(\"Conductivity: \" + str(conductivity_val) + \" S/m\")\n",
    "            conductivity_array = [vial_str, temp_str, conductivity_val]\n",
    "            print(conductivity_array)\n",
    "        except:\n",
    "            print(\"Convergence Failed\")\n",
    "            Re_Z_range = np.linspace(0, max(Z_circle.real)*1.5, 100)\n",
    "            Im_Z_fit = ellipse(Re_Z_range, *p0)\n",
    "            conductivity_val = (1/(2*p0[2]))*length/area\n",
    "            print(\"Conductivity: \" + str(conductivity_val) + \" S/m\")\n",
    "            conductivity_array = [vial_str, temp_str, conductivity_val]\n",
    "            print(conductivity_array)\n",
    "            \n",
    "        figure_lim = max(Z_circle.real)*1.2\n",
    "\n",
    "        Z_poly = []\n",
    "        for i in range(len(Re_Z_range)):\n",
    "            Z_temp = Re_Z_range[i] - 1j*Im_Z_fit[i]\n",
    "            Z_poly.append(Z_temp)\n",
    "\n",
    "        Z_low = Z_poly[0].real\n",
    "        Z_high = Re_Z_range[np.where(Im_Z_fit == min(Im_Z_fit))]\n",
    "\n",
    "        if (save_main_fig == 1):\n",
    "            pass\n",
    "        else:\n",
    "            circuit = user_circuit\n",
    "            # Initial guess of parameter values for ECM. From my observations this is a bit finnicky. \n",
    "            initial_guess = user_guess\n",
    "            circuit = CustomCircuit(circuit, initial_guess=initial_guess)\n",
    "            # Fit data to equivalent circuit model\n",
    "            circuit.fit(f, Z)\n",
    "            Z_fit = circuit.predict(f)\n",
    "            \n",
    "            if create_nyquist == 1:\n",
    "                # Create Nyquist Plot\n",
    "                plt.figure(4)\n",
    "                modelFig, ax = plt.subplots()\n",
    "                # plot_nyquist(Z_poly, fmt = '--', scale = 1, ax = ax)\n",
    "                plot_nyquist(Z, fmt='o', scale=1, ax=ax)\n",
    "                plot_nyquist(Z_fit, fmt='-', scale=1, ax=ax)\n",
    "                plot_nyquist(Z_linKK, fmt='-', scale=1, ax=ax)\n",
    "                plt.legend(['Fitted Circle', path_id, 'Circuit Model', 'Kronig-Kramers Model', 'circle'], loc='center left', bbox_to_anchor=(1, 0.5))\n",
    "                plt.xlim((0, figure_lim))\n",
    "                plt.ylim((0, figure_lim))\n",
    "                modelFig.show()\n",
    "\n",
    "                # Plot residuals\n",
    "                plt.figure(5)\n",
    "                residualFig, ax2 = plt.subplots()\n",
    "                plot_residuals(ax2, f_KK, res_real, res_imag, y_limits=(-50, 50))\n",
    "                residualFig.show()\n",
    "\n",
    "\n",
    "        plt.figure(2)\n",
    "        #plt.loglog(ReZOhm, ImZOhm, label = path) # I know this is unconventional, but it makes it easier to look at multiple lines.\n",
    "        plt.plot(ReZOhm, ImZOhm, label = path_id)\n",
    "        # plt.plot(np.real(Z_linKK), -np.imag(Z_linKK), linestyle = '--', label = path)\n",
    "        plt.title('LiClO4-PEO Sample from 11/4/2023')\n",
    "        plt.xlabel('Re|Z|')\n",
    "        plt.ylabel('Im|Z|')\n",
    "        plt.legend(loc='center left', bbox_to_anchor=(1, 0.5))\n",
    "        nyquist_range = 100000\n",
    "        plt.xlim((0, nyquist_range))\n",
    "        plt.ylim((0, nyquist_range))\n",
    "\n",
    "        \n",
    "        if create_bode == 1:\n",
    "            bode_ax[0].set_title('Bode Plot for LiClO4-PEO Sample')\n",
    "            bode_ax[0].loglog(frequency, ZVector, label = path_id)\n",
    "            bode_ax[0].legend(loc='center left', bbox_to_anchor=(1, 0.5))\n",
    "            bode_ax[1].semilogx(frequency, ZPhase, label = path_id)\n",
    "            bode_ax[1].legend(loc='center left', bbox_to_anchor=(1, 0.5))\n",
    "            bode_ax[1].set_xlabel('Frequency [Hz]')\n",
    "            bode_ax[0].set_ylabel('|Z| [Ohms]')\n",
    "            bode_ax[1].set_ylabel('Phase [Degrees]')\n",
    "            '''\n",
    "            fig, ax1 = plt.subplots()\n",
    "            plt.title('Bode Plot: Magnitude and Phase as a function of Frequency')\n",
    "            color = 'tab:blue'\n",
    "            ax1.set_xlabel('Frequency [Hz]')\n",
    "            ax1.set_ylabel('Magnitude', color=color)\n",
    "            ax1.loglog(frequency, ZVector, label = path)\n",
    "            ax1.tick_params(axis='y', labelcolor=color)\n",
    "\n",
    "            ax2 = ax1.twinx()\n",
    "            color = 'tab:red'\n",
    "            ax2.set_ylabel('Phase', color=color)  # we already handled the x-label with ax1\n",
    "            ax2.loglog(frequency, ZPhase, color = color)\n",
    "            ax2.tick_params(axis='y', labelcolor=color)\n",
    "            '''\n",
    "        \n",
    "\n",
    "print(\"Number of Adequate Data Files: \", good_data, \"| Number of Poor Data Files: \", bad_data, \"| Total Number of Files: \", good_data+bad_data)\n",
    "\n",
    "if (save_main_fig == 1):\n",
    "    # plt.savefig(save_path+'\\mainfigure.png') # if Windows\n",
    "    plt.savefig(save_path+'/mainfigure.png', bbox_inches='tight') # if Mac\n",
    "\n",
    "if (save_bode_fig == 1):\n",
    "    bode_fig.savefig(save_path+'/bodefig.png', bbox_inches='tight') # Mac\n",
    "\n"
   ]
  },
  {
   "cell_type": "code",
   "execution_count": null,
   "id": "8f51e288-48d0-4ce7-97dd-d70b6e15b256",
   "metadata": {},
   "outputs": [],
   "source": []
  }
 ],
 "metadata": {
  "kernelspec": {
   "display_name": "Python 3 (ipykernel)",
   "language": "python",
   "name": "python3"
  },
  "language_info": {
   "codemirror_mode": {
    "name": "ipython",
    "version": 3
   },
   "file_extension": ".py",
   "mimetype": "text/x-python",
   "name": "python",
   "nbconvert_exporter": "python",
   "pygments_lexer": "ipython3",
   "version": "3.11.5"
  }
 },
 "nbformat": 4,
 "nbformat_minor": 5
}
