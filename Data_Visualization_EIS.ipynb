{
 "cells": [
  {
   "cell_type": "markdown",
   "id": "be202b6b",
   "metadata": {},
   "source": [
    "## Data_Visualization_EIS.ipynb\n",
    "#### Analyzes EIS Data from Big Kahuna for Convenient Feedback.\n",
    "##### Miles Smith\n",
    "##### 19 September 2023"
   ]
  },
  {
   "cell_type": "code",
   "execution_count": 1,
   "id": "136321f6-d58b-4112-84e4-3e48ec0d526f",
   "metadata": {
    "tags": []
   },
   "outputs": [],
   "source": [
    "import glob\n",
    "import os\n",
    "import math\n",
    "import statistics\n",
    "import matplotlib.pyplot as plt\n",
    "import numpy as np\n",
    "from impedance import preprocessing\n",
    "from impedance.models.circuits import CustomCircuit\n",
    "# Note that altair was downgraded to v3.0 for impedance.\n",
    "from impedance.visualization import plot_nyquist, plot_residuals\n",
    "from impedance.validation import linKK"
   ]
  },
  {
   "cell_type": "markdown",
   "id": "f47be87f-d8cc-44de-b9d4-330f78ddd0ab",
   "metadata": {},
   "source": [
    "###  To-Do\n",
    "Parse sample number, temperature from path string"
   ]
  },
  {
   "cell_type": "markdown",
   "id": "94a37f99-2f5b-4454-b606-5965496100dc",
   "metadata": {},
   "source": [
    "### Configure User Inputs"
   ]
  },
  {
   "cell_type": "code",
   "execution_count": 11,
   "id": "87c41746-ca92-47d9-91bb-f061065d24aa",
   "metadata": {
    "tags": []
   },
   "outputs": [],
   "source": [
    "# Set the directory path to where the data files (*.txt) format are located on the computer\n",
    "# directory_path = '/Users/milessmith/Documents/GitHub/mit-tri-robot/eis_sample_data' # Miles MacBook Pro (for testing)\n",
    "directory_path = 'C:\\\\Users\\miles\\Documents\\GitHub\\mit-tri-robot\\eis_sample_data'\n",
    "# directory_path = 'C:\\EIS' # Unchained Labs computer USE THIS DIRECTORY PATH IN 6-020\n",
    "\n",
    "# Do you want to filter out bad data?\n",
    "data_filter_selection = 1 # 1 = yes / 0 = no\n",
    "# If yes, I use the expected value of the residuals compared to a model to determine if the data is adequate.\n",
    "# What should the threshold be to flag data?\n",
    "avg_residuals_cutoff = 0.05\n",
    "\n",
    "# Select equivalent circuit model\n",
    "user_circuit = 'R0-p(R2-Wo1,C2)'\n",
    "# Initial guess of parameter values for ECM. From my observations this is a bit finnicky. \n",
    "user_guess = [10**4, 10**5, 10**5, 10**-1, 10**-10]\n",
    "\n",
    "# Do you want multiple plots or each data array to be overlapped on each other?\n",
    "overlay_data = 1  # 1 = yes | 0 = no\n",
    "\n",
    "# Do you want to save the figures generated?\n",
    "save_main_fig = 1 # 1 = yes | 0 = no\n"
   ]
  },
  {
   "cell_type": "markdown",
   "id": "40e90b15-5f0c-47c0-9d6c-8ce532b5d0ec",
   "metadata": {},
   "source": [
    "### Select Data files"
   ]
  },
  {
   "cell_type": "code",
   "execution_count": 12,
   "id": "3ce7dc51-a0c2-4bd0-be38-ade15081c54e",
   "metadata": {
    "tags": []
   },
   "outputs": [],
   "source": [
    "'''\n",
    "Example File structure: 103965_5_20230918_073125_25.txt\n",
    "Plate Number: 103965\n",
    "Vial Number (?): 5\n",
    "Date: 20230918\n",
    "Vial Code (?): 073125\n",
    "Temperature (degC): 25\n",
    "'''\n",
    "\n",
    "### NOTICE: The underscores are an important aspect of the strings for temp and vial number. ###\n",
    "# plate_number = '103965_'\n",
    "plate_number = \"skip\"\n",
    "\n",
    "# vial_number = '_5_' # YOU CAN FILTER BY VIAL NUMBER\n",
    "vial_number = \"skip\"\n",
    "\n",
    "# NOTE: Some of the dates are incorrect, so it might be good to configure the code to look at two dates. \n",
    "date1 = '_20230918_' # PICK THE DATE OF THE SAMPLE YOU ARE INTERESTED\n",
    "# date1 = \"skip\"\n",
    "date2 = '_20230917_'\n",
    "# date2 = \"skip\"\n",
    "\n",
    "temperature = '_25' # YOU CAN FILTER BY TEMPERATURE\n",
    "# temperature = \"skip\""
   ]
  },
  {
   "cell_type": "markdown",
   "id": "1979d584-b1c9-420c-93dc-fc834ee49e8d",
   "metadata": {},
   "source": [
    "### Frequency Range\n",
    "\n",
    "The text (.txt) does not include the frequency, so I am manually importing this from a .mpt file. \n",
    "If we adjust the frequency range, then we will need to adjust this, but from my observations we always sample\n",
    "using the same frequencies. This could be subject to change if we ever changed the scan rate, so it is\n",
    "important to be mindful!\n",
    "\n",
    "FYI: This specific frequency array probably only works as long as we are using a scan frequency of 0.2. "
   ]
  },
  {
   "cell_type": "code",
   "execution_count": 13,
   "id": "3a04a0c6",
   "metadata": {
    "tags": []
   },
   "outputs": [],
   "source": [
    "# Note: Freq[Hz]\n",
    "frequency = [ 6999984, 5969734, 5091109, 4341796, 3702781, 3157797, 2693047, 2296687, 1958656,1670375,\n",
    "             1424531,1214875,1036062,883578.100000000,753531.200000000,642624.900000000,548046.800000000, \n",
    "             467390.600000000, 398593.700000000, 339937.500000000, 289906.200000000, 247234.400000000, \n",
    "             210843.700000000, 179812.500000000, 153343.800000000, 130781.200000000, 111531.300000000,  \n",
    "             95109.3700000000, 81109.3700000000, 69171.8800000000, 59000, 50312.5000000000, 42906.2500000000, \n",
    "             36593.7500000000, 31203.1300000000, 26609.3800000000, 22703.1300000000, 19359.3700000000,  \n",
    "             16500, 14112.0200000000, 12011.1300000000, 10236.3800000000, 8750.68400000000, 7449.46300000000, \n",
    "             6363.20600000000, 5414.76100000000, 4620.56700000000, 3941.21500000000, 3361.76900000000, \n",
    "             2867.24400000000, 2442.65800000000, 2083.00300000000, 1777.84300000000, 1513.54800000000, \n",
    "             1292.06500000000, 1101.76200000000, 939.101000000000, 801.280100000000, 684.343300000000, \n",
    "             582.947600000000, 497.067700000000, 423.508900000000, 361.503600000000, 308.126200000000, \n",
    "             262.729800000000, 224.211100000000, 191.285400000000, 163.172200000000, 139.153700000000, \n",
    "             118.670600000000, 101.198200000000, 86.2419600000000, 73.6102400000000, 62.6929100000000, \n",
    "             53.5769700000000, 45.6574600000000, 38.9651200000000, 33.1841400000000, 28.3061700000000, \n",
    "             24.1723700000000, 20.6134500000000, 17.5561800000000, 14.9855800000000, 12.7655300000000, \n",
    "             10.8809000000000, 9.27850500000000, 7.92339400000000, 6.75822000000000, 5.76142900000000, \n",
    "             4.91970800000000, 4.19125700000000, 3.56409700000000, 3.05175800000000, 2.60416400000000, \n",
    "             2.21442400000000, 1.89256700000000, 1.60750700000000, 1.37641300000000, 1.17375000000000, \n",
    "             1.00160400000000 ]\n",
    "\n",
    "for i in range(len(frequency)):\n",
    "    frequency[i] = np.int32(frequency[i])\n",
    "\n",
    "f = np.array(frequency)\n",
    "    "
   ]
  },
  {
   "cell_type": "markdown",
   "id": "4138c9a6-b838-402b-aec3-40777b1d7af4",
   "metadata": {
    "tags": []
   },
   "source": [
    "### Downsize dataset to only the files of interest"
   ]
  },
  {
   "cell_type": "code",
   "execution_count": 14,
   "id": "b9066393",
   "metadata": {
    "tags": []
   },
   "outputs": [
    {
     "name": "stdout",
     "output_type": "stream",
     "text": [
      "Number of files selected: 15\n"
     ]
    }
   ],
   "source": [
    "### Read in all file names in EIS folder ###\n",
    "\n",
    "# Specify the directory path and file extension pattern\n",
    "extension_pattern = '*.txt'  # List .txt files, for example\n",
    "\n",
    "# Get a list of file names matching the pattern in the directory\n",
    "path_names = glob.glob(os.path.join(directory_path, extension_pattern))\n",
    "\n",
    "# New list to append the files of interest\n",
    "useful_path = []\n",
    "for path in path_names:\n",
    "    if (date1 in path) or (date1 == \"skip\") or (date2 in path) or (date2 == \"skip\"):\n",
    "        if (vial_number in path) or (vial_number == \"skip\"):\n",
    "            if (temperature in path) or (temperature == \"skip\"):\n",
    "                if (plate_number in path) or (plate_number == \"skip\"):\n",
    "                    useful_path.append(path)\n",
    "\n",
    "print(\"Number of files selected: \" + str(len(useful_path)))"
   ]
  },
  {
   "cell_type": "markdown",
   "id": "1ec7b556-e903-46ac-baa0-b711b4b90e92",
   "metadata": {},
   "source": [
    "### Data Import, Basic Analysis, and Figures\n",
    "Here I imported the data from the system and did basic calculations for further analysis.\n"
   ]
  },
  {
   "cell_type": "code",
   "execution_count": 18,
   "id": "67d3e634-2734-4d4b-8366-bea8bf001d6f",
   "metadata": {
    "tags": []
   },
   "outputs": [
    {
     "name": "stderr",
     "output_type": "stream",
     "text": [
      "C:\\Users\\miles\\anaconda3\\Lib\\site-packages\\impedance\\validation.py:306: RuntimeWarning: divide by zero encountered in scalar divide\n",
      "  return 1 - neg_sum/pos_sum\n"
     ]
    },
    {
     "name": "stdout",
     "output_type": "stream",
     "text": [
      "[XX] High residuals in:  C:\\Users\\miles\\Documents\\GitHub\\mit-tri-robot\\eis_sample_data\\103965_10_20230918_102349_25.txt\n",
      "10 0.977252749774679 14563.094511747835\n",
      "[!!] Residuals are good in:  C:\\Users\\miles\\Documents\\GitHub\\mit-tri-robot\\eis_sample_data\\103965_11_20230918_103756_25.txt\n",
      "10 0.9819240077993463 49742.965536417825\n",
      "[!!] Residuals are good in:  C:\\Users\\miles\\Documents\\GitHub\\mit-tri-robot\\eis_sample_data\\103965_12_20230918_112509_25.txt\n",
      "10 0.9999902474553345 101017.34104025943\n",
      "[!!] Residuals are good in:  C:\\Users\\miles\\Documents\\GitHub\\mit-tri-robot\\eis_sample_data\\103965_13_20230918_123557_25.txt\n",
      "[XX] High residuals in:  C:\\Users\\miles\\Documents\\GitHub\\mit-tri-robot\\eis_sample_data\\103965_14_20230918_132402_25.txt\n",
      "[XX] High residuals in:  C:\\Users\\miles\\Documents\\GitHub\\mit-tri-robot\\eis_sample_data\\103965_15_20230918_133218_25.txt\n",
      "10 0.9999941424642796 272170.66343379935\n",
      "[XX] High residuals in:  C:\\Users\\miles\\Documents\\GitHub\\mit-tri-robot\\eis_sample_data\\103965_1_20230917_162804_25.txt\n",
      "[XX] Data type and structure error in:  C:\\Users\\miles\\Documents\\GitHub\\mit-tri-robot\\eis_sample_data\\103965_2_20230917_163418_25.txt\n",
      "[XX] Data type and structure error in:  C:\\Users\\miles\\Documents\\GitHub\\mit-tri-robot\\eis_sample_data\\103965_3_20230917_164037_25.txt\n",
      "[XX] Data type and structure error in:  C:\\Users\\miles\\Documents\\GitHub\\mit-tri-robot\\eis_sample_data\\103965_4_20230917_164648_25.txt\n",
      "10 0.9999550370077852 27826.372589987215\n",
      "[!!] Residuals are good in:  C:\\Users\\miles\\Documents\\GitHub\\mit-tri-robot\\eis_sample_data\\103965_5_20230918_073125_25.txt\n",
      "[XX] High residuals in:  C:\\Users\\miles\\Documents\\GitHub\\mit-tri-robot\\eis_sample_data\\103965_6_20230918_073700_25.txt\n",
      "10 0.9448531528473122 9629.944072989158\n",
      "[!!] Residuals are good in:  C:\\Users\\miles\\Documents\\GitHub\\mit-tri-robot\\eis_sample_data\\103965_7_20230918_074831_25.txt\n",
      "10 0.9018205823191963 5758491.248203514\n",
      "[XX] High residuals in:  C:\\Users\\miles\\Documents\\GitHub\\mit-tri-robot\\eis_sample_data\\103965_8_20230918_075936_25.txt\n",
      "[!!] Residuals are good in:  C:\\Users\\miles\\Documents\\GitHub\\mit-tri-robot\\eis_sample_data\\103965_9_20230918_100838_25.txt\n",
      "Number of Adequate Data Files:  6 | Number of Poor Data Files:  9 | Total Number of Files:  15\n"
     ]
    },
    {
     "data": {
      "image/png": "[encoded data removed]",
      "text/plain": [
       "<Figure size 640x480 with 1 Axes>"
      ]
     },
     "metadata": {},
     "output_type": "display_data"
    }
   ],
   "source": [
    "'''\n",
    "Open and manage data from .txt files\n",
    "'''\n",
    "    \n",
    "bad_data = 0\n",
    "good_data = 0\n",
    "\n",
    "for path in useful_path:\n",
    "    \n",
    "    # Open the file for reading\n",
    "    with open(path, 'r') as file:\n",
    "        \n",
    "        # Initialize arrays for impedance and conductivity values.\n",
    "        ReZOhm = []\n",
    "        ImZOhm = []\n",
    "        conductivity = []\n",
    "        i = 0\n",
    "                \n",
    "        # Parse each line in the .txt files to the correct array.\n",
    "        for line in file:\n",
    "            ZOhm_Values = line.split()\n",
    "            ReZOhm.append(float(ZOhm_Values[0]))\n",
    "            ImZOhm.append(float(ZOhm_Values[1]))\n",
    "            \n",
    "            # resistivity = resistance (ReZ) * area / length\n",
    "            # where area = cross-sectional area, length = distance between electrodes\n",
    "            # These should eventually move to the header tab for user parameters\n",
    "            diameter = 0.010 # [m] User-input required here\n",
    "            length = 0.0001 # [m] # User-input\n",
    "            area = math.pi*diameter**2/4\n",
    "            # Setting A and l to 1 makes this just conductance\n",
    "            # area = 1\n",
    "            # length = 1 \n",
    "            resistivity = ReZOhm[i] * (area) / length\n",
    "            conductivity.append(1/resistivity)\n",
    "            i += 1\n",
    "            \n",
    "        ZOhm = []\n",
    "        ZVector = []\n",
    "        ZPhase = []\n",
    "        for i in range(len(ReZOhm)):\n",
    "            Z_temp = ReZOhm[i] - 1j*ImZOhm[i] # Rearrange into format of array. \n",
    "            ZOhm.append(Z_temp)\n",
    "            ZVector.append(math.sqrt(ReZOhm[i]**2+ImZOhm[i]**2))\n",
    "            ZPhase.append(math.atan(ImZOhm[i]/ReZOhm[i])*180/math.pi) # Phase in degrees = atan(Im|Z|/Re|Z|)\n",
    "            \n",
    "        Z = np.array(ZOhm)\n",
    "        \n",
    "        # Create a linear Kronigs-Kramer model to fit data\n",
    "        try:\n",
    "            M, mu, Z_linKK, res_real, res_imag = linKK(f, Z, c=.85, max_M=100, fit_type='complex', add_cap=True)\n",
    "        except:\n",
    "            print(\"[XX] Data type and structure error in: \", file.name)\n",
    "            bad_data += 1\n",
    "            continue\n",
    "\n",
    "        Re_residuals_avg = statistics.mean(abs(res_real))\n",
    "        Im_residuals_avg = statistics.mean(abs(res_imag))\n",
    "        \n",
    "        if (data_filter_selection == 1):\n",
    "            bad_data_threshold = avg_residuals_cutoff\n",
    "        else:\n",
    "            bad_data_threshold = math.inf\n",
    "        \n",
    "        # Use linKK to identify which datasets have large residuals. \n",
    "        if Re_residuals_avg > bad_data_threshold or Im_residuals_avg > bad_data_threshold:\n",
    "            print(\"[XX] High residuals in: \", file.name)\n",
    "            bad_data += 1\n",
    "            continue\n",
    "        else:\n",
    "            print(\"[!!] Residuals are good in: \", file.name)\n",
    "            good_data += 1\n",
    "            Z = ZOhm\n",
    "            \n",
    "            if (save_main_fig == 1):\n",
    "                pass\n",
    "            else:\n",
    "                circuit = user_circuit\n",
    "                # Initial guess of parameter values for ECM. From my observations this is a bit finnicky. \n",
    "                initial_guess = user_guess\n",
    "                circuit = CustomCircuit(circuit, initial_guess=initial_guess)\n",
    "                # Fit data to equivalent circuit model\n",
    "                circuit.fit(f, Z)\n",
    "                Z_fit = circuit.predict(f)\n",
    "\n",
    "                # Create Nyquist Plot\n",
    "                plt.figure(4)\n",
    "                modelFig, ax = plt.subplots()\n",
    "                plot_nyquist(Z, fmt='o', scale=10, ax=ax)\n",
    "                plot_nyquist(Z_fit, fmt='-', scale=10, ax=ax)\n",
    "                plot_nyquist(Z_linKK, fmt='-', scale=10, ax=ax)\n",
    "                plt.legend([path, 'Circuit Model', 'Kronigs-Kramer Model'], bbox_to_anchor=(1, 1))\n",
    "                modelFig.show()\n",
    "\n",
    "                # Plot residuals\n",
    "                plt.figure(5)\n",
    "                residualFig, ax2 = plt.subplots()\n",
    "                plot_residuals(ax2, f, res_real, res_imag, y_limits=(-50, 50))\n",
    "                residualFig.show()\n",
    "            \n",
    "        '''\n",
    "        Make figures \n",
    "        '''\n",
    "        if len(frequency) == len(conductivity):\n",
    "            '''\n",
    "            plt.figure(1)\n",
    "            plt.plot(frequency, conductivity, label = path)\n",
    "            plt.title('Conductivity as a function of frequency')\n",
    "            plt.xlabel('Frequency [Hz]')\n",
    "            plt.ylabel('Conductivity [S/m]')\n",
    "            plt.legend(bbox_to_anchor=(1, 1))\n",
    "            # plt.ylim((0, 10))\n",
    "            '''\n",
    "\n",
    "            plt.figure(2)\n",
    "            #plt.loglog(ReZOhm, ImZOhm, label = path) # I know this is unconventional, but it makes it easier to look at multiple lines.\n",
    "            plt.plot(ReZOhm, ImZOhm, label = path)\n",
    "            # plt.plot(np.real(Z_linKK), -np.imag(Z_linKK), linestyle = '--', label = path)\n",
    "            plt.title('Nyquist Diagram')\n",
    "            plt.xlabel('Re|Z|')\n",
    "            plt.ylabel('Im|Z|')\n",
    "            plt.legend(bbox_to_anchor=(1, 1))\n",
    "            # plt.xlim((0, 250000))\n",
    "            # plt.ylim((0, 100000))\n",
    "            \n",
    "            '''\n",
    "            plt.figure(3)\n",
    "            fig, ax1 = plt.subplots()\n",
    "            plt.title('Bode Plot: Magnitude and Phase as a function of Frequency')\n",
    "            color = 'tab:blue'\n",
    "            ax1.set_xlabel('Frequency [Hz]')\n",
    "            ax1.set_ylabel('Magnitude', color=color)\n",
    "            ax1.loglog(frequency, ZVector, label = path)\n",
    "            ax1.tick_params(axis='y', labelcolor=color)\n",
    "\n",
    "            ax2 = ax1.twinx()\n",
    "            color = 'tab:red'\n",
    "            ax2.set_ylabel('Phase', color=color)  # we already handled the x-label with ax1\n",
    "            ax2.loglog(frequency, ZPhase, color = color)\n",
    "            ax2.tick_params(axis='y', labelcolor=color)\n",
    "            '''\n",
    "\n",
    "        else:\n",
    "            print(\"Dimensionality Error in file:\" + path + \"\\nLength of Conductivity Array:\" + str(len(conductivity)))\n",
    "\n",
    "print(\"Number of Adequate Data Files: \", good_data, \"| Number of Poor Data Files: \", bad_data, \"| Total Number of Files: \", good_data+bad_data)\n",
    "\n",
    "if (save_main_fig == 1):\n",
    "    plt.savefig(directory_path+'_mainfigure.png')\n"
   ]
  },
  {
   "cell_type": "markdown",
   "id": "f439a654-ff27-42e2-82cb-1688081317a8",
   "metadata": {
    "tags": []
   },
   "source": [
    "### Implement Kramers-Kronig Relations for Data Validation\n",
    "Kramers-Kronig relations work by predicting the real component of a complex number based off of the complex value and the vice versa. In theory this works if the relationships are causal and analytical. "
   ]
  },
  {
   "cell_type": "code",
   "execution_count": 12,
   "id": "f2d8c89c-6513-4e05-ab55-3cc0c3835f6a",
   "metadata": {
    "tags": []
   },
   "outputs": [
    {
     "ename": "NameError",
     "evalue": "name 'circuit' is not defined",
     "output_type": "error",
     "traceback": [
      "\u001b[1;31m---------------------------------------------------------------------------\u001b[0m",
      "\u001b[1;31mNameError\u001b[0m                                 Traceback (most recent call last)",
      "Cell \u001b[1;32mIn[12], line 2\u001b[0m\n\u001b[0;32m      1\u001b[0m \u001b[38;5;66;03m# Create ECM and fit to the data collected\u001b[39;00m\n\u001b[1;32m----> 2\u001b[0m circuit \u001b[38;5;241m=\u001b[39m CustomCircuit(circuit, initial_guess\u001b[38;5;241m=\u001b[39minitial_guess)\n\u001b[0;32m      3\u001b[0m \u001b[38;5;66;03m### The impedance.py documentation uses a much higher order ECM to fit the data, might be worth a try if this doesn't work at first.\u001b[39;00m\n\u001b[0;32m      4\u001b[0m \n\u001b[0;32m      5\u001b[0m     \n\u001b[1;32m   (...)\u001b[0m\n\u001b[0;32m     12\u001b[0m \u001b[38;5;66;03m### -- Still needs to be understood better! -- ###\u001b[39;00m\n\u001b[0;32m     13\u001b[0m \u001b[38;5;66;03m# Fit data to equivalent circuit model\u001b[39;00m\n\u001b[0;32m     14\u001b[0m circuit\u001b[38;5;241m.\u001b[39mfit(f, Z)\n",
      "\u001b[1;31mNameError\u001b[0m: name 'circuit' is not defined"
     ]
    }
   ],
   "source": [
    "    # Create ECM and fit to the data collected\n",
    "    circuit = CustomCircuit(circuit, initial_guess=initial_guess)\n",
    "    ### The impedance.py documentation uses a much higher order ECM to fit the data, might be worth a try if this doesn't work at first.\n",
    "\n",
    "        \n",
    "    # Z = ZOhm\n",
    "    \n",
    "    # mask = f < 1000\n",
    "    # f = f[mask]\n",
    "    # Z = Z[mask]\n",
    "    # f, Z = preprocessing.ignoreBelowX(f, Z)\n",
    "    ### -- Still needs to be understood better! -- ###\n",
    "    # Fit data to equivalent circuit model\n",
    "    circuit.fit(f, Z)\n",
    "    # print(circuit)\n",
    "    Z_fit = circuit.predict(f)\n",
    "\n",
    "    # Create Nyquist Plot\n",
    "    plt.figure(3)\n",
    "    fig, ax = plt.subplots()\n",
    "    plot_nyquist(Z, fmt='o', scale=10, ax=ax)\n",
    "    plot_nyquist(Z_fit, fmt='-', scale=10, ax=ax)\n",
    "    plot_nyquist(Z_linKK, fmt='-', scale=10, ax=ax)\n",
    "\n",
    "\n",
    "    plt.legend([path, 'Circuit Model', 'Kronigs-Kramer Model'], bbox_to_anchor=(1, 1))\n",
    "    \n",
    "    \n",
    "    # Plot residuals\n",
    "    plt.figure(4)\n",
    "    fig2, ax2 = plt.subplots()\n",
    "    plot_residuals(ax2, f, res_real, res_imag, y_limits=(-50, 50))\n"
   ]
  },
  {
   "cell_type": "code",
   "execution_count": null,
   "id": "13d9e93b-5478-4b87-94f1-2edb322a4cc2",
   "metadata": {},
   "outputs": [],
   "source": []
  }
 ],
 "metadata": {
  "kernelspec": {
   "display_name": "Python 3 (ipykernel)",
   "language": "python",
   "name": "python3"
  },
  "language_info": {
   "codemirror_mode": {
    "name": "ipython",
    "version": 3
   },
   "file_extension": ".py",
   "mimetype": "text/x-python",
   "name": "python",
   "nbconvert_exporter": "python",
   "pygments_lexer": "ipython3",
   "version": "3.11.4"
  }
 },
 "nbformat": 4,
 "nbformat_minor": 5
}
